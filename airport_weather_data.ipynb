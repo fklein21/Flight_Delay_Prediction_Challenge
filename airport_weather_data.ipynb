{
 "cells": [
  {
   "cell_type": "markdown",
   "metadata": {},
   "source": [
    "# Getting the weather data of the airports\n",
    "\n",
    "Using the table at http://www.flugzeuginfo.net/table_airportcodes_country-location_en.php\n",
    "a csv with the IATA and ICAO codes of the airports can be created.\n",
    "\n",
    "Using the ICAO codes the weather data can be retrieved from this website: https://www.wunderground.com/history/daily/de/frankfurt/EDDF/date/2015-3-18\n",
    "\n",
    "Given a list with the destination airport codes and the schedules arrival time, a list of the corresponding weather conditions (wind speed, visibility) can be web scraped.\n",
    "\n",
    "This list of weater conditions can then be incorporated into the dataframe with the delays and be subsequently used in a predictive model."
   ]
  },
  {
   "cell_type": "code",
   "execution_count": null,
   "metadata": {},
   "outputs": [],
   "source": []
  }
 ],
 "metadata": {
  "language_info": {
   "name": "python"
  },
  "orig_nbformat": 4
 },
 "nbformat": 4,
 "nbformat_minor": 2
}
