{
 "cells": [
  {
   "cell_type": "markdown",
   "metadata": {},
   "source": [
    "# Getting the weather data of the airports\n",
    "\n",
    "Using the table at http://www.flugzeuginfo.net/table_airportcodes_country-location_en.php\n",
    "a csv with the IATA and ICAO codes of the airports can be created.\n",
    "\n",
    "Using the ICAO codes the weather data can be retrieved from this website: https://www.wunderground.com/history/daily/de/frankfurt/EDDF/date/2015-3-18\n",
    "\n",
    "Given a list with the destination airport codes and the schedules arrival time, a list of the corresponding weather conditions (wind speed, visibility) can be web scraped.\n",
    "\n",
    "This list of weater conditions can then be incorporated into the dataframe with the delays and be subsequently used in a predictive model."
   ]
  },
  {
   "cell_type": "code",
   "execution_count": 282,
   "metadata": {},
   "outputs": [],
   "source": [
    "from datetime import datetime\n",
    "\n",
    "import pandas as pd\n",
    "import numpy as np"
   ]
  },
  {
   "cell_type": "code",
   "execution_count": 264,
   "metadata": {},
   "outputs": [],
   "source": [
    "# The airport and date and time of departure\n",
    "df_dep = pd.read_csv(\"data/sanitized_Train_data.csv\", usecols=[3, 5], parse_dates=[1])\n",
    "df_dep.columns = ['IATA', 'DATE_TIME']"
   ]
  },
  {
   "cell_type": "code",
   "execution_count": 265,
   "metadata": {},
   "outputs": [
    {
     "data": {
      "text/html": [
       "<div>\n",
       "<style scoped>\n",
       "    .dataframe tbody tr th:only-of-type {\n",
       "        vertical-align: middle;\n",
       "    }\n",
       "\n",
       "    .dataframe tbody tr th {\n",
       "        vertical-align: top;\n",
       "    }\n",
       "\n",
       "    .dataframe thead th {\n",
       "        text-align: right;\n",
       "    }\n",
       "</style>\n",
       "<table border=\"1\" class=\"dataframe\">\n",
       "  <thead>\n",
       "    <tr style=\"text-align: right;\">\n",
       "      <th></th>\n",
       "      <th>IATA</th>\n",
       "      <th>DATE_TIME</th>\n",
       "    </tr>\n",
       "  </thead>\n",
       "  <tbody>\n",
       "    <tr>\n",
       "      <th>0</th>\n",
       "      <td>CMN</td>\n",
       "      <td>2016-01-03 10:30:00</td>\n",
       "    </tr>\n",
       "    <tr>\n",
       "      <th>1</th>\n",
       "      <td>MXP</td>\n",
       "      <td>2016-01-13 15:05:00</td>\n",
       "    </tr>\n",
       "    <tr>\n",
       "      <th>2</th>\n",
       "      <td>TUN</td>\n",
       "      <td>2016-01-16 04:10:00</td>\n",
       "    </tr>\n",
       "    <tr>\n",
       "      <th>3</th>\n",
       "      <td>DJE</td>\n",
       "      <td>2016-01-17 14:10:00</td>\n",
       "    </tr>\n",
       "    <tr>\n",
       "      <th>4</th>\n",
       "      <td>TUN</td>\n",
       "      <td>2016-01-17 14:30:00</td>\n",
       "    </tr>\n",
       "  </tbody>\n",
       "</table>\n",
       "</div>"
      ],
      "text/plain": [
       "  IATA           DATE_TIME\n",
       "0  CMN 2016-01-03 10:30:00\n",
       "1  MXP 2016-01-13 15:05:00\n",
       "2  TUN 2016-01-16 04:10:00\n",
       "3  DJE 2016-01-17 14:10:00\n",
       "4  TUN 2016-01-17 14:30:00"
      ]
     },
     "execution_count": 265,
     "metadata": {},
     "output_type": "execute_result"
    }
   ],
   "source": [
    "df_dep.head()"
   ]
  },
  {
   "cell_type": "code",
   "execution_count": 266,
   "metadata": {},
   "outputs": [],
   "source": [
    "# The airport and date and time of departure\n",
    "df_dest = pd.read_csv(\"data/sanitized_Train_data.csv\", usecols=[4, 6], parse_dates=[1])\n",
    "df_dest.columns = ['IATA', 'DATE_TIME']"
   ]
  },
  {
   "cell_type": "code",
   "execution_count": 267,
   "metadata": {},
   "outputs": [
    {
     "data": {
      "text/html": [
       "<div>\n",
       "<style scoped>\n",
       "    .dataframe tbody tr th:only-of-type {\n",
       "        vertical-align: middle;\n",
       "    }\n",
       "\n",
       "    .dataframe tbody tr th {\n",
       "        vertical-align: top;\n",
       "    }\n",
       "\n",
       "    .dataframe thead th {\n",
       "        text-align: right;\n",
       "    }\n",
       "</style>\n",
       "<table border=\"1\" class=\"dataframe\">\n",
       "  <thead>\n",
       "    <tr style=\"text-align: right;\">\n",
       "      <th></th>\n",
       "      <th>IATA</th>\n",
       "      <th>DATE_TIME</th>\n",
       "    </tr>\n",
       "  </thead>\n",
       "  <tbody>\n",
       "    <tr>\n",
       "      <th>0</th>\n",
       "      <td>TUN</td>\n",
       "      <td>2016-01-03 12:55:00</td>\n",
       "    </tr>\n",
       "    <tr>\n",
       "      <th>1</th>\n",
       "      <td>TUN</td>\n",
       "      <td>2016-01-13 16:55:00</td>\n",
       "    </tr>\n",
       "    <tr>\n",
       "      <th>2</th>\n",
       "      <td>IST</td>\n",
       "      <td>2016-01-16 06:45:00</td>\n",
       "    </tr>\n",
       "    <tr>\n",
       "      <th>3</th>\n",
       "      <td>NTE</td>\n",
       "      <td>2016-01-17 17:00:00</td>\n",
       "    </tr>\n",
       "    <tr>\n",
       "      <th>4</th>\n",
       "      <td>ALG</td>\n",
       "      <td>2016-01-17 15:50:00</td>\n",
       "    </tr>\n",
       "  </tbody>\n",
       "</table>\n",
       "</div>"
      ],
      "text/plain": [
       "  IATA           DATE_TIME\n",
       "0  TUN 2016-01-03 12:55:00\n",
       "1  TUN 2016-01-13 16:55:00\n",
       "2  IST 2016-01-16 06:45:00\n",
       "3  NTE 2016-01-17 17:00:00\n",
       "4  ALG 2016-01-17 15:50:00"
      ]
     },
     "execution_count": 267,
     "metadata": {},
     "output_type": "execute_result"
    }
   ],
   "source": [
    "df_dest.head()"
   ]
  },
  {
   "cell_type": "code",
   "execution_count": 268,
   "metadata": {},
   "outputs": [
    {
     "data": {
      "text/html": [
       "<div>\n",
       "<style scoped>\n",
       "    .dataframe tbody tr th:only-of-type {\n",
       "        vertical-align: middle;\n",
       "    }\n",
       "\n",
       "    .dataframe tbody tr th {\n",
       "        vertical-align: top;\n",
       "    }\n",
       "\n",
       "    .dataframe thead th {\n",
       "        text-align: right;\n",
       "    }\n",
       "</style>\n",
       "<table border=\"1\" class=\"dataframe\">\n",
       "  <thead>\n",
       "    <tr style=\"text-align: right;\">\n",
       "      <th></th>\n",
       "      <th>IATA</th>\n",
       "      <th>DATE_TIME</th>\n",
       "    </tr>\n",
       "  </thead>\n",
       "  <tbody>\n",
       "    <tr>\n",
       "      <th>0</th>\n",
       "      <td>CMN</td>\n",
       "      <td>2016-01-03 10:30:00</td>\n",
       "    </tr>\n",
       "    <tr>\n",
       "      <th>1</th>\n",
       "      <td>MXP</td>\n",
       "      <td>2016-01-13 15:05:00</td>\n",
       "    </tr>\n",
       "    <tr>\n",
       "      <th>2</th>\n",
       "      <td>TUN</td>\n",
       "      <td>2016-01-16 04:10:00</td>\n",
       "    </tr>\n",
       "    <tr>\n",
       "      <th>3</th>\n",
       "      <td>DJE</td>\n",
       "      <td>2016-01-17 14:10:00</td>\n",
       "    </tr>\n",
       "    <tr>\n",
       "      <th>4</th>\n",
       "      <td>TUN</td>\n",
       "      <td>2016-01-17 14:30:00</td>\n",
       "    </tr>\n",
       "    <tr>\n",
       "      <th>...</th>\n",
       "      <td>...</td>\n",
       "      <td>...</td>\n",
       "    </tr>\n",
       "    <tr>\n",
       "      <th>107828</th>\n",
       "      <td>TUN</td>\n",
       "      <td>2018-07-06 02:00:00</td>\n",
       "    </tr>\n",
       "    <tr>\n",
       "      <th>107829</th>\n",
       "      <td>TUN</td>\n",
       "      <td>2018-01-13 09:00:00</td>\n",
       "    </tr>\n",
       "    <tr>\n",
       "      <th>107830</th>\n",
       "      <td>TUN</td>\n",
       "      <td>2018-11-07 12:50:00</td>\n",
       "    </tr>\n",
       "    <tr>\n",
       "      <th>107831</th>\n",
       "      <td>DJE</td>\n",
       "      <td>2018-01-23 18:45:00</td>\n",
       "    </tr>\n",
       "    <tr>\n",
       "      <th>107832</th>\n",
       "      <td>DJE</td>\n",
       "      <td>2018-11-13 07:05:00</td>\n",
       "    </tr>\n",
       "  </tbody>\n",
       "</table>\n",
       "<p>215666 rows × 2 columns</p>\n",
       "</div>"
      ],
      "text/plain": [
       "       IATA           DATE_TIME\n",
       "0       CMN 2016-01-03 10:30:00\n",
       "1       MXP 2016-01-13 15:05:00\n",
       "2       TUN 2016-01-16 04:10:00\n",
       "3       DJE 2016-01-17 14:10:00\n",
       "4       TUN 2016-01-17 14:30:00\n",
       "...     ...                 ...\n",
       "107828  TUN 2018-07-06 02:00:00\n",
       "107829  TUN 2018-01-13 09:00:00\n",
       "107830  TUN 2018-11-07 12:50:00\n",
       "107831  DJE 2018-01-23 18:45:00\n",
       "107832  DJE 2018-11-13 07:05:00\n",
       "\n",
       "[215666 rows x 2 columns]"
      ]
     },
     "execution_count": 268,
     "metadata": {},
     "output_type": "execute_result"
    }
   ],
   "source": [
    "df = pd.DataFrame()\n",
    "df = pd.concat([df_dep, df_dest], axis=0)\n",
    "df"
   ]
  },
  {
   "cell_type": "code",
   "execution_count": 269,
   "metadata": {},
   "outputs": [],
   "source": [
    "df_airport_codes = pd.read_csv('data/list_IATA_ICAO_codes.csv', usecols=[0, 1])"
   ]
  },
  {
   "cell_type": "code",
   "execution_count": 270,
   "metadata": {},
   "outputs": [
    {
     "data": {
      "text/plain": [
       "str"
      ]
     },
     "execution_count": 270,
     "metadata": {},
     "output_type": "execute_result"
    }
   ],
   "source": [
    "code = df_airport_codes[df_airport_codes['IATA'] == 'CMN']['ICAO']\n",
    "code = code.iloc[0]\n",
    "type(code)"
   ]
  },
  {
   "cell_type": "code",
   "execution_count": 271,
   "metadata": {},
   "outputs": [
    {
     "name": "stdout",
     "output_type": "stream",
     "text": [
      "<class 'pandas.core.frame.DataFrame'>\n",
      "Int64Index: 215666 entries, 0 to 107832\n",
      "Data columns (total 2 columns):\n",
      " #   Column     Non-Null Count   Dtype         \n",
      "---  ------     --------------   -----         \n",
      " 0   IATA       215666 non-null  object        \n",
      " 1   DATE_TIME  215666 non-null  datetime64[ns]\n",
      "dtypes: datetime64[ns](1), object(1)\n",
      "memory usage: 4.9+ MB\n"
     ]
    }
   ],
   "source": [
    "df.info()"
   ]
  },
  {
   "cell_type": "code",
   "execution_count": 272,
   "metadata": {},
   "outputs": [],
   "source": [
    "df = df.join(df_airport_codes.set_index('IATA'), on='IATA', how='left', lsuffix='_left', rsuffix='_right')"
   ]
  },
  {
   "cell_type": "code",
   "execution_count": 273,
   "metadata": {},
   "outputs": [
    {
     "name": "stdout",
     "output_type": "stream",
     "text": [
      "<class 'pandas.core.frame.DataFrame'>\n",
      "Int64Index: 215666 entries, 0 to 107832\n",
      "Data columns (total 3 columns):\n",
      " #   Column     Non-Null Count   Dtype         \n",
      "---  ------     --------------   -----         \n",
      " 0   IATA       215666 non-null  object        \n",
      " 1   DATE_TIME  215666 non-null  datetime64[ns]\n",
      " 2   ICAO       215666 non-null  object        \n",
      "dtypes: datetime64[ns](1), object(2)\n",
      "memory usage: 6.6+ MB\n"
     ]
    }
   ],
   "source": [
    "df.info()"
   ]
  },
  {
   "cell_type": "code",
   "execution_count": 275,
   "metadata": {},
   "outputs": [
    {
     "data": {
      "text/html": [
       "<div>\n",
       "<style scoped>\n",
       "    .dataframe tbody tr th:only-of-type {\n",
       "        vertical-align: middle;\n",
       "    }\n",
       "\n",
       "    .dataframe tbody tr th {\n",
       "        vertical-align: top;\n",
       "    }\n",
       "\n",
       "    .dataframe thead th {\n",
       "        text-align: right;\n",
       "    }\n",
       "</style>\n",
       "<table border=\"1\" class=\"dataframe\">\n",
       "  <thead>\n",
       "    <tr style=\"text-align: right;\">\n",
       "      <th></th>\n",
       "      <th>IATA</th>\n",
       "      <th>DATE_TIME</th>\n",
       "      <th>ICAO</th>\n",
       "    </tr>\n",
       "  </thead>\n",
       "  <tbody>\n",
       "  </tbody>\n",
       "</table>\n",
       "</div>"
      ],
      "text/plain": [
       "Empty DataFrame\n",
       "Columns: [IATA, DATE_TIME, ICAO]\n",
       "Index: []"
      ]
     },
     "execution_count": 275,
     "metadata": {},
     "output_type": "execute_result"
    }
   ],
   "source": [
    "df[df['ICAO'].isna()]# ['IATA'].unique()"
   ]
  },
  {
   "cell_type": "code",
   "execution_count": 276,
   "metadata": {},
   "outputs": [
    {
     "data": {
      "text/plain": [
       "array(['GMMN', 'LIMC', 'DTTA', 'DTTJ', 'LFBO', 'LTBA', 'LFPO', 'DTMB',\n",
       "       'EBBR', 'DIAP', 'LIPZ', 'EHAM', 'EDDF', 'LEBL', 'OEJN', 'DAAG',\n",
       "       'LPPT', 'LFST', 'LFLL', 'DFFD', 'EGKK', 'OLBA', 'LFMN', 'LPPR',\n",
       "       'LFML', 'EDDL', 'DTTX', 'LIRF', 'LFPG', 'GQNN', 'LFRS', 'LSZH',\n",
       "       'LSGG', 'GMFO', 'EDDM', 'EDDB', 'EDDH', 'GMMW', 'DTNH', 'HECA',\n",
       "       'LYBE', 'LOWW', 'DAOO', 'LEMD', 'DTTZ', 'GABS', 'GOOY', 'HRYR',\n",
       "       'LIPE', 'LMML', 'GMTA', 'EGLL', 'LFBD', 'LKPR', 'LJLJ', 'UUEE',\n",
       "       'OEMA', 'LHBP', 'ESSA', 'EKCH', 'EBCI', 'EBOS', 'GMTT', 'DTTF',\n",
       "       'LIRN', 'LKTB', 'LKMT', 'CYUL', 'DRRN', 'DAAT', 'HFFF', 'EDDK',\n",
       "       'ORER', 'DTTG', 'DAAE', 'LTAI', 'GMMX', 'DXXX', 'LFQQ', 'LICJ',\n",
       "       'FZQA', 'DTKA', 'LIRP', 'HSSS', 'LFLS', 'DABC', 'FOON', 'EYVI',\n",
       "       'LTAC', 'FOOL', 'GUCY', 'ULLI', 'LZKZ', 'LZIB', 'OJAI', 'LROP',\n",
       "       'LIMF', 'UKKK', 'HEBA', 'LIEE', 'UKBB', 'LGAV', 'LGTS', 'LTBJ',\n",
       "       'GOBD', 'OTBD', 'DBBB', 'ELLX', 'FZAA', 'LPBJ', 'BIKF', 'DTTR',\n",
       "       'LIBR', 'EKYT', 'UUWW', 'DABB', 'LIBD', 'LIPX', 'UWPS', 'EDDV',\n",
       "       'EKBI', 'EETN', 'URWW', 'FNLU', 'DAUG', 'EPKT', 'LQSA', 'URKK',\n",
       "       'EHRD', 'EDDS', 'LICT', 'LICC', 'LIME'], dtype=object)"
      ]
     },
     "execution_count": 276,
     "metadata": {},
     "output_type": "execute_result"
    }
   ],
   "source": [
    "df[\"ICAO\"].unique()"
   ]
  },
  {
   "cell_type": "code",
   "execution_count": 277,
   "metadata": {},
   "outputs": [],
   "source": [
    "df['DATE'] = df['DATE_TIME'].dt.date"
   ]
  },
  {
   "cell_type": "code",
   "execution_count": 278,
   "metadata": {},
   "outputs": [],
   "source": [
    "#df.columns = ['IATA', 'DATE_TIME', 'ICAO', '', '', '', '', '']\n",
    "# Adding columns for weather data\n",
    "df['TIME_OBSERVATION'] = np.nan\n",
    "df['TEMP'] = np.nan\n",
    "df['WIND_SPEED'] = np.nan\n",
    "df['PRECIP'] = np.nan\n",
    "df['CONDITION'] = np.nan"
   ]
  },
  {
   "cell_type": "code",
   "execution_count": 279,
   "metadata": {},
   "outputs": [
    {
     "data": {
      "text/html": [
       "<div>\n",
       "<style scoped>\n",
       "    .dataframe tbody tr th:only-of-type {\n",
       "        vertical-align: middle;\n",
       "    }\n",
       "\n",
       "    .dataframe tbody tr th {\n",
       "        vertical-align: top;\n",
       "    }\n",
       "\n",
       "    .dataframe thead th {\n",
       "        text-align: right;\n",
       "    }\n",
       "</style>\n",
       "<table border=\"1\" class=\"dataframe\">\n",
       "  <thead>\n",
       "    <tr style=\"text-align: right;\">\n",
       "      <th></th>\n",
       "      <th>IATA</th>\n",
       "      <th>DATE_TIME</th>\n",
       "      <th>ICAO</th>\n",
       "      <th>DATE</th>\n",
       "      <th>TIME_OBSERVATION</th>\n",
       "      <th>TEMP</th>\n",
       "      <th>WIND_SPEED</th>\n",
       "      <th>PRECIP</th>\n",
       "      <th>CONDITION</th>\n",
       "    </tr>\n",
       "  </thead>\n",
       "  <tbody>\n",
       "    <tr>\n",
       "      <th>0</th>\n",
       "      <td>CMN</td>\n",
       "      <td>2016-01-03 10:30:00</td>\n",
       "      <td>GMMN</td>\n",
       "      <td>2016-01-03</td>\n",
       "      <td>NaN</td>\n",
       "      <td>NaN</td>\n",
       "      <td>NaN</td>\n",
       "      <td>NaN</td>\n",
       "      <td>NaN</td>\n",
       "    </tr>\n",
       "    <tr>\n",
       "      <th>1</th>\n",
       "      <td>MXP</td>\n",
       "      <td>2016-01-13 15:05:00</td>\n",
       "      <td>LIMC</td>\n",
       "      <td>2016-01-13</td>\n",
       "      <td>NaN</td>\n",
       "      <td>NaN</td>\n",
       "      <td>NaN</td>\n",
       "      <td>NaN</td>\n",
       "      <td>NaN</td>\n",
       "    </tr>\n",
       "    <tr>\n",
       "      <th>2</th>\n",
       "      <td>TUN</td>\n",
       "      <td>2016-01-16 04:10:00</td>\n",
       "      <td>DTTA</td>\n",
       "      <td>2016-01-16</td>\n",
       "      <td>NaN</td>\n",
       "      <td>NaN</td>\n",
       "      <td>NaN</td>\n",
       "      <td>NaN</td>\n",
       "      <td>NaN</td>\n",
       "    </tr>\n",
       "    <tr>\n",
       "      <th>3</th>\n",
       "      <td>DJE</td>\n",
       "      <td>2016-01-17 14:10:00</td>\n",
       "      <td>DTTJ</td>\n",
       "      <td>2016-01-17</td>\n",
       "      <td>NaN</td>\n",
       "      <td>NaN</td>\n",
       "      <td>NaN</td>\n",
       "      <td>NaN</td>\n",
       "      <td>NaN</td>\n",
       "    </tr>\n",
       "    <tr>\n",
       "      <th>4</th>\n",
       "      <td>TUN</td>\n",
       "      <td>2016-01-17 14:30:00</td>\n",
       "      <td>DTTA</td>\n",
       "      <td>2016-01-17</td>\n",
       "      <td>NaN</td>\n",
       "      <td>NaN</td>\n",
       "      <td>NaN</td>\n",
       "      <td>NaN</td>\n",
       "      <td>NaN</td>\n",
       "    </tr>\n",
       "    <tr>\n",
       "      <th>...</th>\n",
       "      <td>...</td>\n",
       "      <td>...</td>\n",
       "      <td>...</td>\n",
       "      <td>...</td>\n",
       "      <td>...</td>\n",
       "      <td>...</td>\n",
       "      <td>...</td>\n",
       "      <td>...</td>\n",
       "      <td>...</td>\n",
       "    </tr>\n",
       "    <tr>\n",
       "      <th>107828</th>\n",
       "      <td>TUN</td>\n",
       "      <td>2018-07-06 02:00:00</td>\n",
       "      <td>DTTA</td>\n",
       "      <td>2018-07-06</td>\n",
       "      <td>NaN</td>\n",
       "      <td>NaN</td>\n",
       "      <td>NaN</td>\n",
       "      <td>NaN</td>\n",
       "      <td>NaN</td>\n",
       "    </tr>\n",
       "    <tr>\n",
       "      <th>107829</th>\n",
       "      <td>TUN</td>\n",
       "      <td>2018-01-13 09:00:00</td>\n",
       "      <td>DTTA</td>\n",
       "      <td>2018-01-13</td>\n",
       "      <td>NaN</td>\n",
       "      <td>NaN</td>\n",
       "      <td>NaN</td>\n",
       "      <td>NaN</td>\n",
       "      <td>NaN</td>\n",
       "    </tr>\n",
       "    <tr>\n",
       "      <th>107830</th>\n",
       "      <td>TUN</td>\n",
       "      <td>2018-11-07 12:50:00</td>\n",
       "      <td>DTTA</td>\n",
       "      <td>2018-11-07</td>\n",
       "      <td>NaN</td>\n",
       "      <td>NaN</td>\n",
       "      <td>NaN</td>\n",
       "      <td>NaN</td>\n",
       "      <td>NaN</td>\n",
       "    </tr>\n",
       "    <tr>\n",
       "      <th>107831</th>\n",
       "      <td>DJE</td>\n",
       "      <td>2018-01-23 18:45:00</td>\n",
       "      <td>DTTJ</td>\n",
       "      <td>2018-01-23</td>\n",
       "      <td>NaN</td>\n",
       "      <td>NaN</td>\n",
       "      <td>NaN</td>\n",
       "      <td>NaN</td>\n",
       "      <td>NaN</td>\n",
       "    </tr>\n",
       "    <tr>\n",
       "      <th>107832</th>\n",
       "      <td>DJE</td>\n",
       "      <td>2018-11-13 07:05:00</td>\n",
       "      <td>DTTJ</td>\n",
       "      <td>2018-11-13</td>\n",
       "      <td>NaN</td>\n",
       "      <td>NaN</td>\n",
       "      <td>NaN</td>\n",
       "      <td>NaN</td>\n",
       "      <td>NaN</td>\n",
       "    </tr>\n",
       "  </tbody>\n",
       "</table>\n",
       "<p>215666 rows × 9 columns</p>\n",
       "</div>"
      ],
      "text/plain": [
       "       IATA           DATE_TIME  ICAO        DATE  TIME_OBSERVATION  TEMP  \\\n",
       "0       CMN 2016-01-03 10:30:00  GMMN  2016-01-03               NaN   NaN   \n",
       "1       MXP 2016-01-13 15:05:00  LIMC  2016-01-13               NaN   NaN   \n",
       "2       TUN 2016-01-16 04:10:00  DTTA  2016-01-16               NaN   NaN   \n",
       "3       DJE 2016-01-17 14:10:00  DTTJ  2016-01-17               NaN   NaN   \n",
       "4       TUN 2016-01-17 14:30:00  DTTA  2016-01-17               NaN   NaN   \n",
       "...     ...                 ...   ...         ...               ...   ...   \n",
       "107828  TUN 2018-07-06 02:00:00  DTTA  2018-07-06               NaN   NaN   \n",
       "107829  TUN 2018-01-13 09:00:00  DTTA  2018-01-13               NaN   NaN   \n",
       "107830  TUN 2018-11-07 12:50:00  DTTA  2018-11-07               NaN   NaN   \n",
       "107831  DJE 2018-01-23 18:45:00  DTTJ  2018-01-23               NaN   NaN   \n",
       "107832  DJE 2018-11-13 07:05:00  DTTJ  2018-11-13               NaN   NaN   \n",
       "\n",
       "        WIND_SPEED  PRECIP  CONDITION  \n",
       "0              NaN     NaN        NaN  \n",
       "1              NaN     NaN        NaN  \n",
       "2              NaN     NaN        NaN  \n",
       "3              NaN     NaN        NaN  \n",
       "4              NaN     NaN        NaN  \n",
       "...            ...     ...        ...  \n",
       "107828         NaN     NaN        NaN  \n",
       "107829         NaN     NaN        NaN  \n",
       "107830         NaN     NaN        NaN  \n",
       "107831         NaN     NaN        NaN  \n",
       "107832         NaN     NaN        NaN  \n",
       "\n",
       "[215666 rows x 9 columns]"
      ]
     },
     "execution_count": 279,
     "metadata": {},
     "output_type": "execute_result"
    }
   ],
   "source": [
    "df"
   ]
  },
  {
   "cell_type": "markdown",
   "metadata": {},
   "source": [
    "### Now the weather data have to be retrieved from the website using some web scraper\n",
    "\n",
    "This will be done as follows:\n",
    "1. Start with the first row in ```df```\n",
    "1. Retrieve the weather data (unless they are already downloaded) and save them in weather_df\n",
    "1. Find the weather observation closest to the given time\n",
    "1. Add the weather observation to df\n",
    "1. Continue with the next line in step 2. End when all lines have been processed."
   ]
  },
  {
   "cell_type": "code",
   "execution_count": 280,
   "metadata": {},
   "outputs": [],
   "source": [
    "from selenium import webdriver\n",
    "from selenium.webdriver.common.keys import Keys"
   ]
  },
  {
   "cell_type": "code",
   "execution_count": 283,
   "metadata": {},
   "outputs": [
    {
     "name": "stderr",
     "output_type": "stream",
     "text": [
      "/tmp/ipykernel_506701/2747507098.py:9: DeprecationWarning: executable_path has been deprecated, please pass in a Service object\n",
      "  driver = webdriver.Chrome(executable_path='/home/fklein/zindi/Flight_Delay_Prediction_Challenge/chromedriver')  # Optional argument, if not specified will search path.\n"
     ]
    },
    {
     "name": "stdout",
     "output_type": "stream",
     "text": [
      "Count: 1\n",
      "Date: 2016-01-03, ICAO: GMMN\n"
     ]
    },
    {
     "ename": "NameError",
     "evalue": "name 'BY' is not defined",
     "output_type": "error",
     "traceback": [
      "\u001b[0;31m---------------------------------------------------------------------------\u001b[0m",
      "\u001b[0;31mNameError\u001b[0m                                 Traceback (most recent call last)",
      "\u001b[1;32m/home/fklein/zindi/Flight_Delay_Prediction_Challenge/airport_weather_data.ipynb Cell 20'\u001b[0m in \u001b[0;36m<cell line: 16>\u001b[0;34m()\u001b[0m\n\u001b[1;32m     <a href='vscode-notebook-cell:/home/fklein/zindi/Flight_Delay_Prediction_Challenge/airport_weather_data.ipynb#ch0000015?line=32'>33</a>\u001b[0m \u001b[39m# try:\u001b[39;00m\n\u001b[1;32m     <a href='vscode-notebook-cell:/home/fklein/zindi/Flight_Delay_Prediction_Challenge/airport_weather_data.ipynb#ch0000015?line=33'>34</a>\u001b[0m \u001b[39mif\u001b[39;00m \u001b[39mTrue\u001b[39;00m:\n\u001b[1;32m     <a href='vscode-notebook-cell:/home/fklein/zindi/Flight_Delay_Prediction_Challenge/airport_weather_data.ipynb#ch0000015?line=34'>35</a>\u001b[0m     \u001b[39m# weather_table = driver.find_elements_by_xpath(\u001b[39;00m\n\u001b[0;32m---> <a href='vscode-notebook-cell:/home/fklein/zindi/Flight_Delay_Prediction_Challenge/airport_weather_data.ipynb#ch0000015?line=35'>36</a>\u001b[0m     weather_table \u001b[39m=\u001b[39m driver\u001b[39m.\u001b[39mfind_elements(by\u001b[39m=\u001b[39mBY\u001b[39m.\u001b[39mXPATH, value\u001b[39m=\u001b[39m\n\u001b[1;32m     <a href='vscode-notebook-cell:/home/fklein/zindi/Flight_Delay_Prediction_Challenge/airport_weather_data.ipynb#ch0000015?line=36'>37</a>\u001b[0m             \u001b[39m'\u001b[39m\u001b[39m//table[@class=\u001b[39m\u001b[39m\"\u001b[39m\u001b[39mmat-table cdk-table mat-sort ng-star-inserted\u001b[39m\u001b[39m\"\u001b[39m\u001b[39m]/tbody/tr/td\u001b[39m\u001b[39m'\u001b[39m)\n\u001b[1;32m     <a href='vscode-notebook-cell:/home/fklein/zindi/Flight_Delay_Prediction_Challenge/airport_weather_data.ipynb#ch0000015?line=38'>39</a>\u001b[0m     table_html \u001b[39m=\u001b[39m \u001b[39mlist\u001b[39m()\n\u001b[1;32m     <a href='vscode-notebook-cell:/home/fklein/zindi/Flight_Delay_Prediction_Challenge/airport_weather_data.ipynb#ch0000015?line=39'>40</a>\u001b[0m     table_html \u001b[39m=\u001b[39m \u001b[39mlist\u001b[39m(weather_table)\n",
      "\u001b[0;31mNameError\u001b[0m: name 'BY' is not defined"
     ]
    }
   ],
   "source": [
    "import time\n",
    "\n",
    "from selenium import webdriver\n",
    "from selenium.webdriver.common.by import By\n",
    "weather_obs = pd.DataFrame(columns=['DATE_TIME', 'ICAO', 'TEMP', 'WIND_SPEED', 'PRECIP', 'CONDITION'])\n",
    "\n",
    "count = 0\n",
    "\n",
    "driver = webdriver.Chrome(executable_path='/home/fklein/zindi/Flight_Delay_Prediction_Challenge/chromedriver')  # Optional argument, if not specified will search path.\n",
    "\n",
    "\n",
    "# search_box = driver.find_element_by_name('')\n",
    "# <table _ngcontent-app-root-c202=\"\" mat-table=\"\" aria-labelledby=\"History observation\" matsort=\"\" aria-label=\"table of contents\" class=\"mat-table cdk-table mat-sort ng-star-inserted\" role=\"grid\">\n",
    "# <tr _ngcontent-app-root-c202=\"\" role=\"row\" mat-row=\"\" class=\"mat-row cdk-row ng-star-inserted\">\n",
    "\n",
    "for index, row in df.iterrows():\n",
    "    count += 1\n",
    "    print(f\"Count: {count}\")\n",
    "    if count > 2:\n",
    "        break\n",
    "    date_str = datetime.strftime(row['DATE_TIME'], '%Y-%m-%d')\n",
    "    icao_code = row['ICAO']\n",
    "    print(f\"Date: {date_str}, ICAO: {icao_code}\")\n",
    "\n",
    "    # check if the data are already downloaded\n",
    "    if weather_obs[(weather_obs['ICAO']==icao_code) & (pd.to_datetime(weather_obs['DATE_TIME']).dt.date==datetime.strptime(date_str, '%Y-%m-%d').date())].shape[0] > 1:\n",
    "        continue\n",
    "\n",
    "    driver.get('https://www.wunderground.com/history/daily/de/frankfurt/'+icao_code+'/date/'+date_str);\n",
    "\n",
    "    time.sleep(1) # Let the user actually see something!\n",
    "\n",
    "    # try:\n",
    "    if True:\n",
    "        # weather_table = driver.find_elements_by_xpath(\n",
    "        weather_table = driver.find_elements(by=BY.XPATH, value=\n",
    "                '//table[@class=\"mat-table cdk-table mat-sort ng-star-inserted\"]/tbody/tr/td')\n",
    "\n",
    "        table_html = list()\n",
    "        table_html = list(weather_table)\n",
    "        for ii in range(len(table_html)//10):\n",
    "            dd = dict(\n",
    "                zip(list(weather_obs.columns),[\n",
    "                    [pd.to_datetime(datetime.strptime(date_str+'-'+table_html[0+ii*10].text, '%Y-%m-%d-%I:%M %p'))],\n",
    "                    [icao_code],\n",
    "                    [table_html[1+ii*10].text],\n",
    "                    [table_html[5+ii*10].text],\n",
    "                    [table_html[8+ii*10].text],\n",
    "                    [table_html[9+ii*10].text]\n",
    "            ]))\n",
    "            df_temp = pd.DataFrame(data=dd)\n",
    "            weather_obs = pd.concat([weather_obs, df_temp])\n",
    "            # print(f\"Time: {table_html[0+ii*10].text}, Windspeed: {table_html[5+ii*10].text}, Conditions: {table_html[9+ii*10].text}\")\n",
    "    # except Exception as e:\n",
    "    #     print(e)\n",
    "\n",
    "driver.quit()"
   ]
  },
  {
   "cell_type": "code",
   "execution_count": 243,
   "metadata": {},
   "outputs": [
    {
     "name": "stdout",
     "output_type": "stream",
     "text": [
      "<class 'pandas.core.frame.DataFrame'>\n",
      "Int64Index: 4089 entries, 0 to 0\n",
      "Data columns (total 6 columns):\n",
      " #   Column      Non-Null Count  Dtype \n",
      "---  ------      --------------  ----- \n",
      " 0   DATE_TIME   4089 non-null   object\n",
      " 1   ICAO        4089 non-null   object\n",
      " 2   TEMP        4089 non-null   object\n",
      " 3   WIND_SPEED  4089 non-null   object\n",
      " 4   PRECIP      4089 non-null   object\n",
      " 5   CONDITION   4089 non-null   object\n",
      "dtypes: object(6)\n",
      "memory usage: 223.6+ KB\n"
     ]
    },
    {
     "data": {
      "text/plain": [
       "array(['GMMN', 'LIMC', 'DTTA', 'DTTJ', 'LFBO', 'LTBA', 'LFPO', 'DTMB',\n",
       "       'EBBR', 'LIPZ', 'EHAM', 'EDDF', 'LEBL', 'DAAG', 'LPPT', 'LFST',\n",
       "       'LFLL', 'EGKK', 'OLBA', 'OEJN', 'LFMN', 'LPPR', 'LFML', 'EDDL',\n",
       "       'LIRF', 'LFPG', 'LFRS', 'DIAP', 'LSZH', 'LSGG', 'GMFO', 'EDDM',\n",
       "       'EDDB', 'EDDH'], dtype=object)"
      ]
     },
     "execution_count": 243,
     "metadata": {},
     "output_type": "execute_result"
    }
   ],
   "source": [
    "weather_obs.info()\n",
    "weather_obs['ICAO'].unique()"
   ]
  },
  {
   "cell_type": "code",
   "execution_count": 252,
   "metadata": {},
   "outputs": [
    {
     "data": {
      "text/plain": [
       "array(['NDR', 'NBE', 'GAE', 'VNO', 'DSS', 'BYJ', 'SKX'], dtype=object)"
      ]
     },
     "execution_count": 252,
     "metadata": {},
     "output_type": "execute_result"
    }
   ],
   "source": []
  },
  {
   "cell_type": "code",
   "execution_count": 198,
   "metadata": {},
   "outputs": [
    {
     "data": {
      "text/html": [
       "<div>\n",
       "<style scoped>\n",
       "    .dataframe tbody tr th:only-of-type {\n",
       "        vertical-align: middle;\n",
       "    }\n",
       "\n",
       "    .dataframe tbody tr th {\n",
       "        vertical-align: top;\n",
       "    }\n",
       "\n",
       "    .dataframe thead th {\n",
       "        text-align: right;\n",
       "    }\n",
       "</style>\n",
       "<table border=\"1\" class=\"dataframe\">\n",
       "  <thead>\n",
       "    <tr style=\"text-align: right;\">\n",
       "      <th></th>\n",
       "      <th>DATE_TIME</th>\n",
       "      <th>ICAO</th>\n",
       "      <th>TEMP</th>\n",
       "      <th>WIND_SPEED</th>\n",
       "      <th>PRECIP</th>\n",
       "      <th>CONDITION</th>\n",
       "    </tr>\n",
       "  </thead>\n",
       "  <tbody>\n",
       "    <tr>\n",
       "      <th>0</th>\n",
       "      <td>2016-01-13 00:50:00</td>\n",
       "      <td>LIMC</td>\n",
       "      <td>34 °F</td>\n",
       "      <td>9 mph</td>\n",
       "      <td>0.0 in</td>\n",
       "      <td>Fair</td>\n",
       "    </tr>\n",
       "  </tbody>\n",
       "</table>\n",
       "</div>"
      ],
      "text/plain": [
       "            DATE_TIME  ICAO   TEMP WIND_SPEED  PRECIP CONDITION\n",
       "0 2016-01-13 00:50:00  LIMC  34 °F      9 mph  0.0 in      Fair"
      ]
     },
     "execution_count": 198,
     "metadata": {},
     "output_type": "execute_result"
    }
   ],
   "source": [
    "pd.DataFrame(data=dd)"
   ]
  },
  {
   "cell_type": "code",
   "execution_count": 206,
   "metadata": {},
   "outputs": [
    {
     "data": {
      "text/plain": [
       "<function Timestamp.date>"
      ]
     },
     "execution_count": 206,
     "metadata": {},
     "output_type": "execute_result"
    }
   ],
   "source": [
    "pd.to_datetime(weather_obs['DATE_TIME'].iloc[0]).date\n"
   ]
  },
  {
   "cell_type": "code",
   "execution_count": 219,
   "metadata": {},
   "outputs": [
    {
     "data": {
      "text/plain": [
       "datetime.date(2016, 1, 3)"
      ]
     },
     "execution_count": 219,
     "metadata": {},
     "output_type": "execute_result"
    }
   ],
   "source": [
    "pd.to_datetime(weather_obs['DATE_TIME']).dt.date.iloc[0]"
   ]
  },
  {
   "cell_type": "code",
   "execution_count": 237,
   "metadata": {},
   "outputs": [
    {
     "data": {
      "text/plain": [
       "46"
      ]
     },
     "execution_count": 237,
     "metadata": {},
     "output_type": "execute_result"
    }
   ],
   "source": [
    "weather_obs[(weather_obs['ICAO']==\"LIMC\") & (pd.to_datetime(weather_obs['DATE_TIME']).dt.date==datetime.strptime('2016-01-13', '%Y-%m-%d').date())].shape[0]"
   ]
  }
 ],
 "metadata": {
  "interpreter": {
   "hash": "add08ccb475ee87d0349ea55f57042a6cf20d70eb5df1ad11223a91c07106a2c"
  },
  "kernelspec": {
   "display_name": "Python 3.9.7 ('.venv': venv)",
   "language": "python",
   "name": "python3"
  },
  "language_info": {
   "codemirror_mode": {
    "name": "ipython",
    "version": 3
   },
   "file_extension": ".py",
   "mimetype": "text/x-python",
   "name": "python",
   "nbconvert_exporter": "python",
   "pygments_lexer": "ipython3",
   "version": "3.9.7"
  },
  "orig_nbformat": 4
 },
 "nbformat": 4,
 "nbformat_minor": 2
}
