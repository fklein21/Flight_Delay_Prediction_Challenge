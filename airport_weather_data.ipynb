{
 "cells": [
  {
   "cell_type": "markdown",
   "metadata": {},
   "source": [
    "# Getting the weather data of the airports\n",
    "\n",
    "Using the table at http://www.flugzeuginfo.net/table_airportcodes_country-location_en.php\n",
    "a csv with the IATA and ICAO codes of the airports can be created.\n",
    "\n",
    "Using the ICAO codes the weather data can be retrieved from this website: https://www.wunderground.com/history/daily/de/frankfurt/EDDF/date/2015-3-18\n",
    "\n",
    "Given a list with the destination airport codes and the schedules arrival time, a list of the corresponding weather conditions (wind speed, visibility) can be web scraped.\n",
    "\n",
    "This list of weater conditions can then be incorporated into the dataframe with the delays and be subsequently used in a predictive model."
   ]
  },
  {
   "cell_type": "code",
   "execution_count": 1,
   "metadata": {},
   "outputs": [],
   "source": [
    "import pandas as pd"
   ]
  },
  {
   "cell_type": "code",
   "execution_count": 2,
   "metadata": {},
   "outputs": [],
   "source": [
    "# The airport and date and time of departure\n",
    "df_dep = pd.read_csv(\"data/sanitized_Train_data.csv\", usecols=[3, 5], parse_dates=[1])\n",
    "df_dep.columns = ['IATA', 'DATE_TIME']"
   ]
  },
  {
   "cell_type": "code",
   "execution_count": 3,
   "metadata": {},
   "outputs": [
    {
     "data": {
      "text/html": [
       "<div>\n",
       "<style scoped>\n",
       "    .dataframe tbody tr th:only-of-type {\n",
       "        vertical-align: middle;\n",
       "    }\n",
       "\n",
       "    .dataframe tbody tr th {\n",
       "        vertical-align: top;\n",
       "    }\n",
       "\n",
       "    .dataframe thead th {\n",
       "        text-align: right;\n",
       "    }\n",
       "</style>\n",
       "<table border=\"1\" class=\"dataframe\">\n",
       "  <thead>\n",
       "    <tr style=\"text-align: right;\">\n",
       "      <th></th>\n",
       "      <th>IATA</th>\n",
       "      <th>DATE_TIME</th>\n",
       "    </tr>\n",
       "  </thead>\n",
       "  <tbody>\n",
       "    <tr>\n",
       "      <th>0</th>\n",
       "      <td>CMN</td>\n",
       "      <td>2016-01-03 10:30:00</td>\n",
       "    </tr>\n",
       "    <tr>\n",
       "      <th>1</th>\n",
       "      <td>MXP</td>\n",
       "      <td>2016-01-13 15:05:00</td>\n",
       "    </tr>\n",
       "    <tr>\n",
       "      <th>2</th>\n",
       "      <td>TUN</td>\n",
       "      <td>2016-01-16 04:10:00</td>\n",
       "    </tr>\n",
       "    <tr>\n",
       "      <th>3</th>\n",
       "      <td>DJE</td>\n",
       "      <td>2016-01-17 14:10:00</td>\n",
       "    </tr>\n",
       "    <tr>\n",
       "      <th>4</th>\n",
       "      <td>TUN</td>\n",
       "      <td>2016-01-17 14:30:00</td>\n",
       "    </tr>\n",
       "  </tbody>\n",
       "</table>\n",
       "</div>"
      ],
      "text/plain": [
       "  IATA           DATE_TIME\n",
       "0  CMN 2016-01-03 10:30:00\n",
       "1  MXP 2016-01-13 15:05:00\n",
       "2  TUN 2016-01-16 04:10:00\n",
       "3  DJE 2016-01-17 14:10:00\n",
       "4  TUN 2016-01-17 14:30:00"
      ]
     },
     "execution_count": 3,
     "metadata": {},
     "output_type": "execute_result"
    }
   ],
   "source": [
    "df_dep.head()"
   ]
  },
  {
   "cell_type": "code",
   "execution_count": 4,
   "metadata": {},
   "outputs": [],
   "source": [
    "# The airport and date and time of departure\n",
    "df_dest = pd.read_csv(\"data/sanitized_Train_data.csv\", usecols=[4, 6], parse_dates=[1])\n",
    "df_dest.columns = ['IATA', 'DATE_TIME']"
   ]
  },
  {
   "cell_type": "code",
   "execution_count": 5,
   "metadata": {},
   "outputs": [
    {
     "data": {
      "text/html": [
       "<div>\n",
       "<style scoped>\n",
       "    .dataframe tbody tr th:only-of-type {\n",
       "        vertical-align: middle;\n",
       "    }\n",
       "\n",
       "    .dataframe tbody tr th {\n",
       "        vertical-align: top;\n",
       "    }\n",
       "\n",
       "    .dataframe thead th {\n",
       "        text-align: right;\n",
       "    }\n",
       "</style>\n",
       "<table border=\"1\" class=\"dataframe\">\n",
       "  <thead>\n",
       "    <tr style=\"text-align: right;\">\n",
       "      <th></th>\n",
       "      <th>IATA</th>\n",
       "      <th>DATE_TIME</th>\n",
       "    </tr>\n",
       "  </thead>\n",
       "  <tbody>\n",
       "    <tr>\n",
       "      <th>0</th>\n",
       "      <td>TUN</td>\n",
       "      <td>2016-01-03 12:55:00</td>\n",
       "    </tr>\n",
       "    <tr>\n",
       "      <th>1</th>\n",
       "      <td>TUN</td>\n",
       "      <td>2016-01-13 16:55:00</td>\n",
       "    </tr>\n",
       "    <tr>\n",
       "      <th>2</th>\n",
       "      <td>IST</td>\n",
       "      <td>2016-01-16 06:45:00</td>\n",
       "    </tr>\n",
       "    <tr>\n",
       "      <th>3</th>\n",
       "      <td>NTE</td>\n",
       "      <td>2016-01-17 17:00:00</td>\n",
       "    </tr>\n",
       "    <tr>\n",
       "      <th>4</th>\n",
       "      <td>ALG</td>\n",
       "      <td>2016-01-17 15:50:00</td>\n",
       "    </tr>\n",
       "  </tbody>\n",
       "</table>\n",
       "</div>"
      ],
      "text/plain": [
       "  IATA           DATE_TIME\n",
       "0  TUN 2016-01-03 12:55:00\n",
       "1  TUN 2016-01-13 16:55:00\n",
       "2  IST 2016-01-16 06:45:00\n",
       "3  NTE 2016-01-17 17:00:00\n",
       "4  ALG 2016-01-17 15:50:00"
      ]
     },
     "execution_count": 5,
     "metadata": {},
     "output_type": "execute_result"
    }
   ],
   "source": [
    "df_dest.head()"
   ]
  },
  {
   "cell_type": "code",
   "execution_count": 6,
   "metadata": {},
   "outputs": [
    {
     "data": {
      "text/html": [
       "<div>\n",
       "<style scoped>\n",
       "    .dataframe tbody tr th:only-of-type {\n",
       "        vertical-align: middle;\n",
       "    }\n",
       "\n",
       "    .dataframe tbody tr th {\n",
       "        vertical-align: top;\n",
       "    }\n",
       "\n",
       "    .dataframe thead th {\n",
       "        text-align: right;\n",
       "    }\n",
       "</style>\n",
       "<table border=\"1\" class=\"dataframe\">\n",
       "  <thead>\n",
       "    <tr style=\"text-align: right;\">\n",
       "      <th></th>\n",
       "      <th>IATA</th>\n",
       "      <th>DATE_TIME</th>\n",
       "    </tr>\n",
       "  </thead>\n",
       "  <tbody>\n",
       "    <tr>\n",
       "      <th>0</th>\n",
       "      <td>CMN</td>\n",
       "      <td>2016-01-03 10:30:00</td>\n",
       "    </tr>\n",
       "    <tr>\n",
       "      <th>1</th>\n",
       "      <td>MXP</td>\n",
       "      <td>2016-01-13 15:05:00</td>\n",
       "    </tr>\n",
       "    <tr>\n",
       "      <th>2</th>\n",
       "      <td>TUN</td>\n",
       "      <td>2016-01-16 04:10:00</td>\n",
       "    </tr>\n",
       "    <tr>\n",
       "      <th>3</th>\n",
       "      <td>DJE</td>\n",
       "      <td>2016-01-17 14:10:00</td>\n",
       "    </tr>\n",
       "    <tr>\n",
       "      <th>4</th>\n",
       "      <td>TUN</td>\n",
       "      <td>2016-01-17 14:30:00</td>\n",
       "    </tr>\n",
       "    <tr>\n",
       "      <th>...</th>\n",
       "      <td>...</td>\n",
       "      <td>...</td>\n",
       "    </tr>\n",
       "    <tr>\n",
       "      <th>107828</th>\n",
       "      <td>TUN</td>\n",
       "      <td>2018-07-06 02:00:00</td>\n",
       "    </tr>\n",
       "    <tr>\n",
       "      <th>107829</th>\n",
       "      <td>TUN</td>\n",
       "      <td>2018-01-13 09:00:00</td>\n",
       "    </tr>\n",
       "    <tr>\n",
       "      <th>107830</th>\n",
       "      <td>TUN</td>\n",
       "      <td>2018-11-07 12:50:00</td>\n",
       "    </tr>\n",
       "    <tr>\n",
       "      <th>107831</th>\n",
       "      <td>DJE</td>\n",
       "      <td>2018-01-23 18:45:00</td>\n",
       "    </tr>\n",
       "    <tr>\n",
       "      <th>107832</th>\n",
       "      <td>DJE</td>\n",
       "      <td>2018-11-13 07:05:00</td>\n",
       "    </tr>\n",
       "  </tbody>\n",
       "</table>\n",
       "<p>215666 rows × 2 columns</p>\n",
       "</div>"
      ],
      "text/plain": [
       "       IATA           DATE_TIME\n",
       "0       CMN 2016-01-03 10:30:00\n",
       "1       MXP 2016-01-13 15:05:00\n",
       "2       TUN 2016-01-16 04:10:00\n",
       "3       DJE 2016-01-17 14:10:00\n",
       "4       TUN 2016-01-17 14:30:00\n",
       "...     ...                 ...\n",
       "107828  TUN 2018-07-06 02:00:00\n",
       "107829  TUN 2018-01-13 09:00:00\n",
       "107830  TUN 2018-11-07 12:50:00\n",
       "107831  DJE 2018-01-23 18:45:00\n",
       "107832  DJE 2018-11-13 07:05:00\n",
       "\n",
       "[215666 rows x 2 columns]"
      ]
     },
     "execution_count": 6,
     "metadata": {},
     "output_type": "execute_result"
    }
   ],
   "source": [
    "df = pd.DataFrame()\n",
    "df = pd.concat([df_dep, df_dest], axis=0)\n",
    "df"
   ]
  },
  {
   "cell_type": "code",
   "execution_count": 7,
   "metadata": {},
   "outputs": [],
   "source": [
    "df_airport_codes = pd.read_csv('list_IATA_ICAO_codes.csv', usecols=[0, 1])"
   ]
  },
  {
   "cell_type": "code",
   "execution_count": 8,
   "metadata": {},
   "outputs": [
    {
     "data": {
      "text/plain": [
       "str"
      ]
     },
     "execution_count": 8,
     "metadata": {},
     "output_type": "execute_result"
    }
   ],
   "source": [
    "code = df_airport_codes[df_airport_codes['IATA'] == 'CMN']['ICAO']\n",
    "code = code.iloc[0]\n",
    "type(code)"
   ]
  },
  {
   "cell_type": "code",
   "execution_count": 9,
   "metadata": {},
   "outputs": [
    {
     "name": "stdout",
     "output_type": "stream",
     "text": [
      "<class 'pandas.core.frame.DataFrame'>\n",
      "Int64Index: 215666 entries, 0 to 107832\n",
      "Data columns (total 2 columns):\n",
      " #   Column     Non-Null Count   Dtype         \n",
      "---  ------     --------------   -----         \n",
      " 0   IATA       215666 non-null  object        \n",
      " 1   DATE_TIME  215666 non-null  datetime64[ns]\n",
      "dtypes: datetime64[ns](1), object(1)\n",
      "memory usage: 4.9+ MB\n"
     ]
    }
   ],
   "source": [
    "df.info()"
   ]
  },
  {
   "cell_type": "code",
   "execution_count": 10,
   "metadata": {},
   "outputs": [],
   "source": [
    "df = df.join(df_airport_codes.set_index('IATA'), on='IATA', how='left', lsuffix='_left', rsuffix='_right')"
   ]
  },
  {
   "cell_type": "code",
   "execution_count": 11,
   "metadata": {},
   "outputs": [
    {
     "name": "stdout",
     "output_type": "stream",
     "text": [
      "<class 'pandas.core.frame.DataFrame'>\n",
      "Int64Index: 215666 entries, 0 to 107832\n",
      "Data columns (total 3 columns):\n",
      " #   Column     Non-Null Count   Dtype         \n",
      "---  ------     --------------   -----         \n",
      " 0   IATA       215666 non-null  object        \n",
      " 1   DATE_TIME  215666 non-null  datetime64[ns]\n",
      " 2   ICAO       212380 non-null  object        \n",
      "dtypes: datetime64[ns](1), object(2)\n",
      "memory usage: 6.6+ MB\n"
     ]
    }
   ],
   "source": [
    "df.info()"
   ]
  },
  {
   "cell_type": "markdown",
   "metadata": {},
   "source": [
    "### Now the weather data have to be retrieved from the website using some web scraper"
   ]
  },
  {
   "cell_type": "code",
   "execution_count": 13,
   "metadata": {},
   "outputs": [],
   "source": [
    "from selenium import webdriver\n",
    "from selenium.webdriver.common.keys import Keys"
   ]
  },
  {
   "cell_type": "markdown",
   "metadata": {},
   "source": []
  },
  {
   "cell_type": "code",
   "execution_count": 59,
   "metadata": {},
   "outputs": [
    {
     "name": "stderr",
     "output_type": "stream",
     "text": [
      "/tmp/ipykernel_592043/887851600.py:5: DeprecationWarning: executable_path has been deprecated, please pass in a Service object\n",
      "  driver = webdriver.Chrome(executable_path='/home/fklein/zindi/Flight_Delay_Prediction_Challenge/chromedriver')  # Optional argument, if not specified will search path.\n"
     ]
    },
    {
     "name": "stdout",
     "output_type": "stream",
     "text": [
      "Len of weather_table:  48\n"
     ]
    },
    {
     "name": "stderr",
     "output_type": "stream",
     "text": [
      "/tmp/ipykernel_592043/887851600.py:15: DeprecationWarning: find_elements_by_xpath is deprecated. Please use find_elements(by=By.XPATH, value=xpath) instead\n",
      "  weather_table = driver.find_elements_by_xpath('//tr[@class=\"mat-row cdk-row ng-star-inserted\"]')\n"
     ]
    },
    {
     "data": {
      "text/plain": [
       "'12:20 AM 50 °F 39 °F 66 % NNE 9 mph 0 mph 29.81 in 0.0 in Fair'"
      ]
     },
     "metadata": {},
     "output_type": "display_data"
    },
    {
     "data": {
      "text/plain": [
       "'12:50 AM 48 °F 37 °F 66 % NNE 10 mph 0 mph 29.81 in 0.0 in Fair'"
      ]
     },
     "metadata": {},
     "output_type": "display_data"
    },
    {
     "data": {
      "text/plain": [
       "'1:20 AM 48 °F 39 °F 71 % NNE 6 mph 0 mph 29.81 in 0.0 in Fair'"
      ]
     },
     "metadata": {},
     "output_type": "display_data"
    },
    {
     "data": {
      "text/plain": [
       "'1:50 AM 48 °F 39 °F 71 % E 5 mph 0 mph 29.81 in 0.0 in Fair'"
      ]
     },
     "metadata": {},
     "output_type": "display_data"
    },
    {
     "data": {
      "text/plain": [
       "'2:20 AM 46 °F 39 °F 76 % E 6 mph 0 mph 29.81 in 0.0 in Fair'"
      ]
     },
     "metadata": {},
     "output_type": "display_data"
    },
    {
     "data": {
      "text/plain": [
       "'2:50 AM 45 °F 39 °F 81 % E 7 mph 0 mph 29.81 in 0.0 in Fair'"
      ]
     },
     "metadata": {},
     "output_type": "display_data"
    },
    {
     "data": {
      "text/plain": [
       "'3:20 AM 43 °F 39 °F 87 % ENE 6 mph 0 mph 29.81 in 0.0 in Fair'"
      ]
     },
     "metadata": {},
     "output_type": "display_data"
    },
    {
     "data": {
      "text/plain": [
       "'3:50 AM 43 °F 37 °F 81 % ENE 6 mph 0 mph 29.81 in 0.0 in Fair'"
      ]
     },
     "metadata": {},
     "output_type": "display_data"
    },
    {
     "data": {
      "text/plain": [
       "'4:20 AM 43 °F 39 °F 87 % ENE 6 mph 0 mph 29.81 in 0.0 in Fair'"
      ]
     },
     "metadata": {},
     "output_type": "display_data"
    },
    {
     "data": {
      "text/plain": [
       "'4:50 AM 43 °F 37 °F 81 % E 6 mph 0 mph 29.81 in 0.0 in Fair'"
      ]
     },
     "metadata": {},
     "output_type": "display_data"
    },
    {
     "data": {
      "text/plain": [
       "'5:20 AM 43 °F 39 °F 87 % E 6 mph 0 mph 29.84 in 0.0 in Fair'"
      ]
     },
     "metadata": {},
     "output_type": "display_data"
    },
    {
     "data": {
      "text/plain": [
       "'5:50 AM 43 °F 37 °F 81 % E 7 mph 0 mph 29.84 in 0.0 in Fair'"
      ]
     },
     "metadata": {},
     "output_type": "display_data"
    },
    {
     "data": {
      "text/plain": [
       "'6:20 AM 43 °F 39 °F 87 % ENE 5 mph 0 mph 29.84 in 0.0 in Fair'"
      ]
     },
     "metadata": {},
     "output_type": "display_data"
    },
    {
     "data": {
      "text/plain": [
       "'6:50 AM 43 °F 37 °F 81 % VAR 2 mph 0 mph 29.84 in 0.0 in Fair'"
      ]
     },
     "metadata": {},
     "output_type": "display_data"
    },
    {
     "data": {
      "text/plain": [
       "'7:20 AM 41 °F 37 °F 87 % NNE 3 mph 0 mph 29.84 in 0.0 in Shallow Fog'"
      ]
     },
     "metadata": {},
     "output_type": "display_data"
    },
    {
     "data": {
      "text/plain": [
       "'7:50 AM 43 °F 39 °F 87 % VAR 2 mph 0 mph 29.84 in 0.0 in Shallow Fog'"
      ]
     },
     "metadata": {},
     "output_type": "display_data"
    },
    {
     "data": {
      "text/plain": [
       "'8:20 AM 43 °F 39 °F 87 % E 3 mph 0 mph 29.87 in 0.0 in Shallow Fog'"
      ]
     },
     "metadata": {},
     "output_type": "display_data"
    },
    {
     "data": {
      "text/plain": [
       "'8:50 AM 46 °F 39 °F 76 % VAR 2 mph 0 mph 29.87 in 0.0 in Fair'"
      ]
     },
     "metadata": {},
     "output_type": "display_data"
    },
    {
     "data": {
      "text/plain": [
       "'9:20 AM 50 °F 41 °F 71 % NE 3 mph 0 mph 29.87 in 0.0 in Fair'"
      ]
     },
     "metadata": {},
     "output_type": "display_data"
    },
    {
     "data": {
      "text/plain": [
       "'9:50 AM 52 °F 39 °F 62 % ENE 7 mph 0 mph 29.87 in 0.0 in Fair'"
      ]
     },
     "metadata": {},
     "output_type": "display_data"
    },
    {
     "data": {
      "text/plain": [
       "'10:20 AM 52 °F 39 °F 62 % E 7 mph 0 mph 29.87 in 0.0 in Fair'"
      ]
     },
     "metadata": {},
     "output_type": "display_data"
    },
    {
     "data": {
      "text/plain": [
       "'10:50 AM 54 °F 39 °F 58 % E 6 mph 0 mph 29.87 in 0.0 in Fair'"
      ]
     },
     "metadata": {},
     "output_type": "display_data"
    },
    {
     "data": {
      "text/plain": [
       "'11:20 AM 55 °F 39 °F 54 % SE 6 mph 0 mph 29.87 in 0.0 in Fair'"
      ]
     },
     "metadata": {},
     "output_type": "display_data"
    },
    {
     "data": {
      "text/plain": [
       "'11:50 AM 57 °F 37 °F 48 % E 6 mph 0 mph 29.84 in 0.0 in Fair'"
      ]
     },
     "metadata": {},
     "output_type": "display_data"
    },
    {
     "data": {
      "text/plain": [
       "'12:20 PM 59 °F 39 °F 48 % ESE 5 mph 0 mph 29.84 in 0.0 in Fair'"
      ]
     },
     "metadata": {},
     "output_type": "display_data"
    },
    {
     "data": {
      "text/plain": [
       "'12:50 PM 61 °F 39 °F 45 % VAR 3 mph 0 mph 29.84 in 0.0 in Fair'"
      ]
     },
     "metadata": {},
     "output_type": "display_data"
    },
    {
     "data": {
      "text/plain": [
       "'1:20 PM 63 °F 39 °F 42 % ENE 7 mph 0 mph 29.84 in 0.0 in Fair'"
      ]
     },
     "metadata": {},
     "output_type": "display_data"
    },
    {
     "data": {
      "text/plain": [
       "'1:50 PM 63 °F 37 °F 39 % NNE 6 mph 0 mph 29.81 in 0.0 in Fair'"
      ]
     },
     "metadata": {},
     "output_type": "display_data"
    },
    {
     "data": {
      "text/plain": [
       "'2:20 PM 63 °F 39 °F 42 % VAR 5 mph 0 mph 29.81 in 0.0 in Fair'"
      ]
     },
     "metadata": {},
     "output_type": "display_data"
    },
    {
     "data": {
      "text/plain": [
       "'2:50 PM 64 °F 39 °F 40 % VAR 6 mph 0 mph 29.81 in 0.0 in Fair'"
      ]
     },
     "metadata": {},
     "output_type": "display_data"
    },
    {
     "data": {
      "text/plain": [
       "'3:20 PM 64 °F 41 °F 42 % N 3 mph 0 mph 29.81 in 0.0 in Fair'"
      ]
     },
     "metadata": {},
     "output_type": "display_data"
    },
    {
     "data": {
      "text/plain": [
       "'3:50 PM 64 °F 39 °F 40 % VAR 2 mph 0 mph 29.81 in 0.0 in Fair'"
      ]
     },
     "metadata": {},
     "output_type": "display_data"
    },
    {
     "data": {
      "text/plain": [
       "'4:20 PM 64 °F 41 °F 42 % VAR 2 mph 0 mph 29.81 in 0.0 in Fair'"
      ]
     },
     "metadata": {},
     "output_type": "display_data"
    },
    {
     "data": {
      "text/plain": [
       "'4:50 PM 64 °F 41 °F 42 % N 5 mph 0 mph 29.81 in 0.0 in Fair'"
      ]
     },
     "metadata": {},
     "output_type": "display_data"
    },
    {
     "data": {
      "text/plain": [
       "'5:20 PM 64 °F 39 °F 40 % N 3 mph 0 mph 29.81 in 0.0 in Fair'"
      ]
     },
     "metadata": {},
     "output_type": "display_data"
    },
    {
     "data": {
      "text/plain": [
       "'5:50 PM 63 °F 39 °F 42 % NE 6 mph 0 mph 29.81 in 0.0 in Fair'"
      ]
     },
     "metadata": {},
     "output_type": "display_data"
    },
    {
     "data": {
      "text/plain": [
       "'6:20 PM 61 °F 39 °F 45 % N 5 mph 0 mph 29.81 in 0.0 in Fair'"
      ]
     },
     "metadata": {},
     "output_type": "display_data"
    },
    {
     "data": {
      "text/plain": [
       "'6:50 PM 61 °F 41 °F 48 % NW 8 mph 0 mph 29.81 in 0.0 in Fair'"
      ]
     },
     "metadata": {},
     "output_type": "display_data"
    },
    {
     "data": {
      "text/plain": [
       "'7:20 PM 59 °F 41 °F 51 % NW 8 mph 0 mph 29.81 in 0.0 in Fair'"
      ]
     },
     "metadata": {},
     "output_type": "display_data"
    },
    {
     "data": {
      "text/plain": [
       "'7:50 PM 59 °F 43 °F 55 % NW 9 mph 0 mph 29.81 in 0.0 in Fair'"
      ]
     },
     "metadata": {},
     "output_type": "display_data"
    },
    {
     "data": {
      "text/plain": [
       "'8:20 PM 59 °F 43 °F 55 % NNW 9 mph 0 mph 29.81 in 0.0 in Fair'"
      ]
     },
     "metadata": {},
     "output_type": "display_data"
    },
    {
     "data": {
      "text/plain": [
       "'8:50 PM 57 °F 43 °F 59 % N 9 mph 0 mph 29.84 in 0.0 in Fair'"
      ]
     },
     "metadata": {},
     "output_type": "display_data"
    },
    {
     "data": {
      "text/plain": [
       "'9:20 PM 57 °F 41 °F 55 % N 9 mph 0 mph 29.84 in 0.0 in Fair'"
      ]
     },
     "metadata": {},
     "output_type": "display_data"
    },
    {
     "data": {
      "text/plain": [
       "'9:50 PM 55 °F 41 °F 58 % N 6 mph 0 mph 29.84 in 0.0 in Fair'"
      ]
     },
     "metadata": {},
     "output_type": "display_data"
    },
    {
     "data": {
      "text/plain": [
       "'10:20 PM 54 °F 41 °F 62 % N 8 mph 0 mph 29.84 in 0.0 in Fair'"
      ]
     },
     "metadata": {},
     "output_type": "display_data"
    },
    {
     "data": {
      "text/plain": [
       "'10:50 PM 55 °F 41 °F 58 % N 8 mph 0 mph 29.84 in 0.0 in Fair'"
      ]
     },
     "metadata": {},
     "output_type": "display_data"
    },
    {
     "data": {
      "text/plain": [
       "'11:20 PM 54 °F 39 °F 58 % NNE 6 mph 0 mph 29.84 in 0.0 in Fair'"
      ]
     },
     "metadata": {},
     "output_type": "display_data"
    },
    {
     "data": {
      "text/plain": [
       "'11:50 PM 52 °F 41 °F 67 % NNW 6 mph 0 mph 29.84 in 0.0 in Fair'"
      ]
     },
     "metadata": {},
     "output_type": "display_data"
    }
   ],
   "source": [
    "import time\n",
    "\n",
    "from selenium import webdriver\n",
    "\n",
    "driver = webdriver.Chrome(executable_path='/home/fklein/zindi/Flight_Delay_Prediction_Challenge/chromedriver')  # Optional argument, if not specified will search path.\n",
    "\n",
    "driver.get('https://www.wunderground.com/history/daily/de/frankfurt/EDDF/date/2015-3-18');\n",
    "\n",
    "time.sleep(1) # Let the user actually see something!\n",
    "\n",
    "# search_box = driver.find_element_by_name('')\n",
    "# <table _ngcontent-app-root-c202=\"\" mat-table=\"\" aria-labelledby=\"History observation\" matsort=\"\" aria-label=\"table of contents\" class=\"mat-table cdk-table mat-sort ng-star-inserted\" role=\"grid\">\n",
    "# <tr _ngcontent-app-root-c202=\"\" role=\"row\" mat-row=\"\" class=\"mat-row cdk-row ng-star-inserted\">\n",
    "try:\n",
    "    weather_table = driver.find_elements_by_xpath('//tr[@class=\"mat-row cdk-row ng-star-inserted\"]')\n",
    "    print(\"Len of weather_table: \", len(weather_table))\n",
    "    table_html = list()\n",
    "    for row in weather_table:\n",
    "        display(row.text)\n",
    "        table_html.append(row.get_attribute('outerHTML'))\n",
    "        # for col in row.find_elements_by_xpath('//tr'):\n",
    "        #     table_html.append(col.text)\n",
    "except:\n",
    "    print('Could not find the html element.')\n",
    "\n",
    "# search_box.send_keys('airport weather')\n",
    "\n",
    "# search_box.submit()\n",
    "\n",
    "# time.sleep(1) # Let the user actually see something!\n",
    "\n",
    "driver.quit()"
   ]
  },
  {
   "cell_type": "code",
   "execution_count": 57,
   "metadata": {},
   "outputs": [
    {
     "data": {
      "text/plain": [
       "3888"
      ]
     },
     "execution_count": 57,
     "metadata": {},
     "output_type": "execute_result"
    }
   ],
   "source": [
    "len(table_html)"
   ]
  },
  {
   "cell_type": "code",
   "execution_count": 58,
   "metadata": {},
   "outputs": [
    {
     "data": {
      "text/plain": [
       "['Temperature (° F) Actual Historic Avg. Record',\n",
       " 'High Temp 64 50.3 --',\n",
       " 'Low Temp 41 35.9 --',\n",
       " 'Day Average Temp 53.35 43 -',\n",
       " 'Precipitation (Inches) Actual Historic Avg. Record',\n",
       " 'Precipitation (past 24 hours from 23:20:00) 0.00 0.10 -',\n",
       " 'Dew Point (° F) Actual Historic Avg. Record',\n",
       " 'Dew Point 39.38 - -',\n",
       " 'High 43 - -',\n",
       " 'Low 37 - -',\n",
       " 'Average 39.38 - -',\n",
       " 'Wind (MPH) Actual Historic Avg. Record',\n",
       " 'Max Wind Speed 10 - -',\n",
       " 'Visibility 6 - -',\n",
       " 'Sea Level Pressure (Hg) Actual Historic Avg. Record',\n",
       " 'Sea Level Pressure 29.87 - -',\n",
       " 'Astronomy Day Length Rise Set',\n",
       " 'Actual Time 12h 0m 6:35 AM 6:35 PM',\n",
       " 'Civil Twilight 6:02 AM 7:07 PM',\n",
       " 'Nautical Twilight 5:25 AM 7:45 PM',\n",
       " 'Astronomical Twilight 4:45 AM 8:24 PM',\n",
       " 'Moon: waning crescent 5:18 AM 4:19 PM',\n",
       " 'Time\\nTemperature\\nDew Point\\nHumidity\\nWind\\nWind Speed\\nWind Gust\\nPressure\\nPrecip.\\nCondition',\n",
       " '12:20 AM 50 °F 39 °F 66 % NNE 9 mph 0 mph 29.81 in 0.0 in Fair',\n",
       " '12:50 AM 48 °F 37 °F 66 % NNE 10 mph 0 mph 29.81 in 0.0 in Fair',\n",
       " '1:20 AM 48 °F 39 °F 71 % NNE 6 mph 0 mph 29.81 in 0.0 in Fair',\n",
       " '1:50 AM 48 °F 39 °F 71 % E 5 mph 0 mph 29.81 in 0.0 in Fair',\n",
       " '2:20 AM 46 °F 39 °F 76 % E 6 mph 0 mph 29.81 in 0.0 in Fair',\n",
       " '2:50 AM 45 °F 39 °F 81 % E 7 mph 0 mph 29.81 in 0.0 in Fair',\n",
       " '3:20 AM 43 °F 39 °F 87 % ENE 6 mph 0 mph 29.81 in 0.0 in Fair',\n",
       " '3:50 AM 43 °F 37 °F 81 % ENE 6 mph 0 mph 29.81 in 0.0 in Fair',\n",
       " '4:20 AM 43 °F 39 °F 87 % ENE 6 mph 0 mph 29.81 in 0.0 in Fair',\n",
       " '4:50 AM 43 °F 37 °F 81 % E 6 mph 0 mph 29.81 in 0.0 in Fair',\n",
       " '5:20 AM 43 °F 39 °F 87 % E 6 mph 0 mph 29.84 in 0.0 in Fair',\n",
       " '5:50 AM 43 °F 37 °F 81 % E 7 mph 0 mph 29.84 in 0.0 in Fair',\n",
       " '6:20 AM 43 °F 39 °F 87 % ENE 5 mph 0 mph 29.84 in 0.0 in Fair',\n",
       " '6:50 AM 43 °F 37 °F 81 % VAR 2 mph 0 mph 29.84 in 0.0 in Fair',\n",
       " '7:20 AM 41 °F 37 °F 87 % NNE 3 mph 0 mph 29.84 in 0.0 in Shallow Fog',\n",
       " '7:50 AM 43 °F 39 °F 87 % VAR 2 mph 0 mph 29.84 in 0.0 in Shallow Fog',\n",
       " '8:20 AM 43 °F 39 °F 87 % E 3 mph 0 mph 29.87 in 0.0 in Shallow Fog',\n",
       " '8:50 AM 46 °F 39 °F 76 % VAR 2 mph 0 mph 29.87 in 0.0 in Fair',\n",
       " '9:20 AM 50 °F 41 °F 71 % NE 3 mph 0 mph 29.87 in 0.0 in Fair',\n",
       " '9:50 AM 52 °F 39 °F 62 % ENE 7 mph 0 mph 29.87 in 0.0 in Fair',\n",
       " '10:20 AM 52 °F 39 °F 62 % E 7 mph 0 mph 29.87 in 0.0 in Fair',\n",
       " '10:50 AM 54 °F 39 °F 58 % E 6 mph 0 mph 29.87 in 0.0 in Fair',\n",
       " '11:20 AM 55 °F 39 °F 54 % SE 6 mph 0 mph 29.87 in 0.0 in Fair',\n",
       " '11:50 AM 57 °F 37 °F 48 % E 6 mph 0 mph 29.84 in 0.0 in Fair',\n",
       " '12:20 PM 59 °F 39 °F 48 % ESE 5 mph 0 mph 29.84 in 0.0 in Fair',\n",
       " '12:50 PM 61 °F 39 °F 45 % VAR 3 mph 0 mph 29.84 in 0.0 in Fair',\n",
       " '1:20 PM 63 °F 39 °F 42 % ENE 7 mph 0 mph 29.84 in 0.0 in Fair',\n",
       " '1:50 PM 63 °F 37 °F 39 % NNE 6 mph 0 mph 29.81 in 0.0 in Fair',\n",
       " '2:20 PM 63 °F 39 °F 42 % VAR 5 mph 0 mph 29.81 in 0.0 in Fair',\n",
       " '2:50 PM 64 °F 39 °F 40 % VAR 6 mph 0 mph 29.81 in 0.0 in Fair',\n",
       " '3:20 PM 64 °F 41 °F 42 % N 3 mph 0 mph 29.81 in 0.0 in Fair',\n",
       " '3:50 PM 64 °F 39 °F 40 % VAR 2 mph 0 mph 29.81 in 0.0 in Fair',\n",
       " '4:20 PM 64 °F 41 °F 42 % VAR 2 mph 0 mph 29.81 in 0.0 in Fair',\n",
       " '4:50 PM 64 °F 41 °F 42 % N 5 mph 0 mph 29.81 in 0.0 in Fair',\n",
       " '5:20 PM 64 °F 39 °F 40 % N 3 mph 0 mph 29.81 in 0.0 in Fair',\n",
       " '5:50 PM 63 °F 39 °F 42 % NE 6 mph 0 mph 29.81 in 0.0 in Fair',\n",
       " '6:20 PM 61 °F 39 °F 45 % N 5 mph 0 mph 29.81 in 0.0 in Fair',\n",
       " '6:50 PM 61 °F 41 °F 48 % NW 8 mph 0 mph 29.81 in 0.0 in Fair',\n",
       " '7:20 PM 59 °F 41 °F 51 % NW 8 mph 0 mph 29.81 in 0.0 in Fair',\n",
       " '7:50 PM 59 °F 43 °F 55 % NW 9 mph 0 mph 29.81 in 0.0 in Fair',\n",
       " '8:20 PM 59 °F 43 °F 55 % NNW 9 mph 0 mph 29.81 in 0.0 in Fair',\n",
       " '8:50 PM 57 °F 43 °F 59 % N 9 mph 0 mph 29.84 in 0.0 in Fair',\n",
       " '9:20 PM 57 °F 41 °F 55 % N 9 mph 0 mph 29.84 in 0.0 in Fair',\n",
       " '9:50 PM 55 °F 41 °F 58 % N 6 mph 0 mph 29.84 in 0.0 in Fair',\n",
       " '10:20 PM 54 °F 41 °F 62 % N 8 mph 0 mph 29.84 in 0.0 in Fair',\n",
       " '10:50 PM 55 °F 41 °F 58 % N 8 mph 0 mph 29.84 in 0.0 in Fair',\n",
       " '11:20 PM 54 °F 39 °F 58 % NNE 6 mph 0 mph 29.84 in 0.0 in Fair',\n",
       " '11:50 PM 52 °F 41 °F 67 % NNW 6 mph 0 mph 29.84 in 0.0 in Fair',\n",
       " '',\n",
       " '',\n",
       " '',\n",
       " '',\n",
       " '',\n",
       " '',\n",
       " '',\n",
       " '',\n",
       " '',\n",
       " '',\n",
       " 'Temperature (° F) Actual Historic Avg. Record',\n",
       " 'High Temp 64 50.3 --',\n",
       " 'Low Temp 41 35.9 --',\n",
       " 'Day Average Temp 53.35 43 -',\n",
       " 'Precipitation (Inches) Actual Historic Avg. Record',\n",
       " 'Precipitation (past 24 hours from 23:20:00) 0.00 0.10 -',\n",
       " 'Dew Point (° F) Actual Historic Avg. Record',\n",
       " 'Dew Point 39.38 - -',\n",
       " 'High 43 - -',\n",
       " 'Low 37 - -',\n",
       " 'Average 39.38 - -',\n",
       " 'Wind (MPH) Actual Historic Avg. Record',\n",
       " 'Max Wind Speed 10 - -',\n",
       " 'Visibility 6 - -',\n",
       " 'Sea Level Pressure (Hg) Actual Historic Avg. Record',\n",
       " 'Sea Level Pressure 29.87 - -',\n",
       " 'Astronomy Day Length Rise Set',\n",
       " 'Actual Time 12h 0m 6:35 AM 6:35 PM',\n",
       " 'Civil Twilight 6:02 AM 7:07 PM',\n",
       " 'Nautical Twilight 5:25 AM 7:45 PM',\n",
       " 'Astronomical Twilight 4:45 AM 8:24 PM',\n",
       " 'Moon: waning crescent 5:18 AM 4:19 PM',\n",
       " 'Time\\nTemperature\\nDew Point\\nHumidity\\nWind\\nWind Speed\\nWind Gust\\nPressure\\nPrecip.\\nCondition',\n",
       " '12:20 AM 50 °F 39 °F 66 % NNE 9 mph 0 mph 29.81 in 0.0 in Fair',\n",
       " '12:50 AM 48 °F 37 °F 66 % NNE 10 mph 0 mph 29.81 in 0.0 in Fair',\n",
       " '1:20 AM 48 °F 39 °F 71 % NNE 6 mph 0 mph 29.81 in 0.0 in Fair',\n",
       " '1:50 AM 48 °F 39 °F 71 % E 5 mph 0 mph 29.81 in 0.0 in Fair',\n",
       " '2:20 AM 46 °F 39 °F 76 % E 6 mph 0 mph 29.81 in 0.0 in Fair',\n",
       " '2:50 AM 45 °F 39 °F 81 % E 7 mph 0 mph 29.81 in 0.0 in Fair',\n",
       " '3:20 AM 43 °F 39 °F 87 % ENE 6 mph 0 mph 29.81 in 0.0 in Fair',\n",
       " '3:50 AM 43 °F 37 °F 81 % ENE 6 mph 0 mph 29.81 in 0.0 in Fair',\n",
       " '4:20 AM 43 °F 39 °F 87 % ENE 6 mph 0 mph 29.81 in 0.0 in Fair',\n",
       " '4:50 AM 43 °F 37 °F 81 % E 6 mph 0 mph 29.81 in 0.0 in Fair',\n",
       " '5:20 AM 43 °F 39 °F 87 % E 6 mph 0 mph 29.84 in 0.0 in Fair',\n",
       " '5:50 AM 43 °F 37 °F 81 % E 7 mph 0 mph 29.84 in 0.0 in Fair',\n",
       " '6:20 AM 43 °F 39 °F 87 % ENE 5 mph 0 mph 29.84 in 0.0 in Fair',\n",
       " '6:50 AM 43 °F 37 °F 81 % VAR 2 mph 0 mph 29.84 in 0.0 in Fair',\n",
       " '7:20 AM 41 °F 37 °F 87 % NNE 3 mph 0 mph 29.84 in 0.0 in Shallow Fog',\n",
       " '7:50 AM 43 °F 39 °F 87 % VAR 2 mph 0 mph 29.84 in 0.0 in Shallow Fog',\n",
       " '8:20 AM 43 °F 39 °F 87 % E 3 mph 0 mph 29.87 in 0.0 in Shallow Fog',\n",
       " '8:50 AM 46 °F 39 °F 76 % VAR 2 mph 0 mph 29.87 in 0.0 in Fair',\n",
       " '9:20 AM 50 °F 41 °F 71 % NE 3 mph 0 mph 29.87 in 0.0 in Fair',\n",
       " '9:50 AM 52 °F 39 °F 62 % ENE 7 mph 0 mph 29.87 in 0.0 in Fair',\n",
       " '10:20 AM 52 °F 39 °F 62 % E 7 mph 0 mph 29.87 in 0.0 in Fair',\n",
       " '10:50 AM 54 °F 39 °F 58 % E 6 mph 0 mph 29.87 in 0.0 in Fair',\n",
       " '11:20 AM 55 °F 39 °F 54 % SE 6 mph 0 mph 29.87 in 0.0 in Fair',\n",
       " '11:50 AM 57 °F 37 °F 48 % E 6 mph 0 mph 29.84 in 0.0 in Fair',\n",
       " '12:20 PM 59 °F 39 °F 48 % ESE 5 mph 0 mph 29.84 in 0.0 in Fair',\n",
       " '12:50 PM 61 °F 39 °F 45 % VAR 3 mph 0 mph 29.84 in 0.0 in Fair',\n",
       " '1:20 PM 63 °F 39 °F 42 % ENE 7 mph 0 mph 29.84 in 0.0 in Fair',\n",
       " '1:50 PM 63 °F 37 °F 39 % NNE 6 mph 0 mph 29.81 in 0.0 in Fair',\n",
       " '2:20 PM 63 °F 39 °F 42 % VAR 5 mph 0 mph 29.81 in 0.0 in Fair',\n",
       " '2:50 PM 64 °F 39 °F 40 % VAR 6 mph 0 mph 29.81 in 0.0 in Fair',\n",
       " '3:20 PM 64 °F 41 °F 42 % N 3 mph 0 mph 29.81 in 0.0 in Fair',\n",
       " '3:50 PM 64 °F 39 °F 40 % VAR 2 mph 0 mph 29.81 in 0.0 in Fair',\n",
       " '4:20 PM 64 °F 41 °F 42 % VAR 2 mph 0 mph 29.81 in 0.0 in Fair',\n",
       " '4:50 PM 64 °F 41 °F 42 % N 5 mph 0 mph 29.81 in 0.0 in Fair',\n",
       " '5:20 PM 64 °F 39 °F 40 % N 3 mph 0 mph 29.81 in 0.0 in Fair',\n",
       " '5:50 PM 63 °F 39 °F 42 % NE 6 mph 0 mph 29.81 in 0.0 in Fair',\n",
       " '6:20 PM 61 °F 39 °F 45 % N 5 mph 0 mph 29.81 in 0.0 in Fair',\n",
       " '6:50 PM 61 °F 41 °F 48 % NW 8 mph 0 mph 29.81 in 0.0 in Fair',\n",
       " '7:20 PM 59 °F 41 °F 51 % NW 8 mph 0 mph 29.81 in 0.0 in Fair',\n",
       " '7:50 PM 59 °F 43 °F 55 % NW 9 mph 0 mph 29.81 in 0.0 in Fair',\n",
       " '8:20 PM 59 °F 43 °F 55 % NNW 9 mph 0 mph 29.81 in 0.0 in Fair',\n",
       " '8:50 PM 57 °F 43 °F 59 % N 9 mph 0 mph 29.84 in 0.0 in Fair',\n",
       " '9:20 PM 57 °F 41 °F 55 % N 9 mph 0 mph 29.84 in 0.0 in Fair',\n",
       " '9:50 PM 55 °F 41 °F 58 % N 6 mph 0 mph 29.84 in 0.0 in Fair',\n",
       " '10:20 PM 54 °F 41 °F 62 % N 8 mph 0 mph 29.84 in 0.0 in Fair',\n",
       " '10:50 PM 55 °F 41 °F 58 % N 8 mph 0 mph 29.84 in 0.0 in Fair',\n",
       " '11:20 PM 54 °F 39 °F 58 % NNE 6 mph 0 mph 29.84 in 0.0 in Fair',\n",
       " '11:50 PM 52 °F 41 °F 67 % NNW 6 mph 0 mph 29.84 in 0.0 in Fair',\n",
       " '',\n",
       " '',\n",
       " '',\n",
       " '',\n",
       " '',\n",
       " '',\n",
       " '',\n",
       " '',\n",
       " '',\n",
       " '',\n",
       " 'Temperature (° F) Actual Historic Avg. Record',\n",
       " 'High Temp 64 50.3 --',\n",
       " 'Low Temp 41 35.9 --',\n",
       " 'Day Average Temp 53.35 43 -',\n",
       " 'Precipitation (Inches) Actual Historic Avg. Record',\n",
       " 'Precipitation (past 24 hours from 23:20:00) 0.00 0.10 -',\n",
       " 'Dew Point (° F) Actual Historic Avg. Record',\n",
       " 'Dew Point 39.38 - -',\n",
       " 'High 43 - -',\n",
       " 'Low 37 - -',\n",
       " 'Average 39.38 - -',\n",
       " 'Wind (MPH) Actual Historic Avg. Record',\n",
       " 'Max Wind Speed 10 - -',\n",
       " 'Visibility 6 - -',\n",
       " 'Sea Level Pressure (Hg) Actual Historic Avg. Record',\n",
       " 'Sea Level Pressure 29.87 - -',\n",
       " 'Astronomy Day Length Rise Set',\n",
       " 'Actual Time 12h 0m 6:35 AM 6:35 PM',\n",
       " 'Civil Twilight 6:02 AM 7:07 PM',\n",
       " 'Nautical Twilight 5:25 AM 7:45 PM',\n",
       " 'Astronomical Twilight 4:45 AM 8:24 PM',\n",
       " 'Moon: waning crescent 5:18 AM 4:19 PM',\n",
       " 'Time\\nTemperature\\nDew Point\\nHumidity\\nWind\\nWind Speed\\nWind Gust\\nPressure\\nPrecip.\\nCondition',\n",
       " '12:20 AM 50 °F 39 °F 66 % NNE 9 mph 0 mph 29.81 in 0.0 in Fair',\n",
       " '12:50 AM 48 °F 37 °F 66 % NNE 10 mph 0 mph 29.81 in 0.0 in Fair',\n",
       " '1:20 AM 48 °F 39 °F 71 % NNE 6 mph 0 mph 29.81 in 0.0 in Fair',\n",
       " '1:50 AM 48 °F 39 °F 71 % E 5 mph 0 mph 29.81 in 0.0 in Fair',\n",
       " '2:20 AM 46 °F 39 °F 76 % E 6 mph 0 mph 29.81 in 0.0 in Fair',\n",
       " '2:50 AM 45 °F 39 °F 81 % E 7 mph 0 mph 29.81 in 0.0 in Fair',\n",
       " '3:20 AM 43 °F 39 °F 87 % ENE 6 mph 0 mph 29.81 in 0.0 in Fair',\n",
       " '3:50 AM 43 °F 37 °F 81 % ENE 6 mph 0 mph 29.81 in 0.0 in Fair',\n",
       " '4:20 AM 43 °F 39 °F 87 % ENE 6 mph 0 mph 29.81 in 0.0 in Fair',\n",
       " '4:50 AM 43 °F 37 °F 81 % E 6 mph 0 mph 29.81 in 0.0 in Fair',\n",
       " '5:20 AM 43 °F 39 °F 87 % E 6 mph 0 mph 29.84 in 0.0 in Fair',\n",
       " '5:50 AM 43 °F 37 °F 81 % E 7 mph 0 mph 29.84 in 0.0 in Fair',\n",
       " '6:20 AM 43 °F 39 °F 87 % ENE 5 mph 0 mph 29.84 in 0.0 in Fair',\n",
       " '6:50 AM 43 °F 37 °F 81 % VAR 2 mph 0 mph 29.84 in 0.0 in Fair',\n",
       " '7:20 AM 41 °F 37 °F 87 % NNE 3 mph 0 mph 29.84 in 0.0 in Shallow Fog',\n",
       " '7:50 AM 43 °F 39 °F 87 % VAR 2 mph 0 mph 29.84 in 0.0 in Shallow Fog',\n",
       " '8:20 AM 43 °F 39 °F 87 % E 3 mph 0 mph 29.87 in 0.0 in Shallow Fog',\n",
       " '8:50 AM 46 °F 39 °F 76 % VAR 2 mph 0 mph 29.87 in 0.0 in Fair',\n",
       " '9:20 AM 50 °F 41 °F 71 % NE 3 mph 0 mph 29.87 in 0.0 in Fair',\n",
       " '9:50 AM 52 °F 39 °F 62 % ENE 7 mph 0 mph 29.87 in 0.0 in Fair',\n",
       " '10:20 AM 52 °F 39 °F 62 % E 7 mph 0 mph 29.87 in 0.0 in Fair',\n",
       " '10:50 AM 54 °F 39 °F 58 % E 6 mph 0 mph 29.87 in 0.0 in Fair',\n",
       " '11:20 AM 55 °F 39 °F 54 % SE 6 mph 0 mph 29.87 in 0.0 in Fair',\n",
       " '11:50 AM 57 °F 37 °F 48 % E 6 mph 0 mph 29.84 in 0.0 in Fair',\n",
       " '12:20 PM 59 °F 39 °F 48 % ESE 5 mph 0 mph 29.84 in 0.0 in Fair',\n",
       " '12:50 PM 61 °F 39 °F 45 % VAR 3 mph 0 mph 29.84 in 0.0 in Fair',\n",
       " '1:20 PM 63 °F 39 °F 42 % ENE 7 mph 0 mph 29.84 in 0.0 in Fair',\n",
       " '1:50 PM 63 °F 37 °F 39 % NNE 6 mph 0 mph 29.81 in 0.0 in Fair',\n",
       " '2:20 PM 63 °F 39 °F 42 % VAR 5 mph 0 mph 29.81 in 0.0 in Fair',\n",
       " '2:50 PM 64 °F 39 °F 40 % VAR 6 mph 0 mph 29.81 in 0.0 in Fair',\n",
       " '3:20 PM 64 °F 41 °F 42 % N 3 mph 0 mph 29.81 in 0.0 in Fair',\n",
       " '3:50 PM 64 °F 39 °F 40 % VAR 2 mph 0 mph 29.81 in 0.0 in Fair',\n",
       " '4:20 PM 64 °F 41 °F 42 % VAR 2 mph 0 mph 29.81 in 0.0 in Fair',\n",
       " '4:50 PM 64 °F 41 °F 42 % N 5 mph 0 mph 29.81 in 0.0 in Fair',\n",
       " '5:20 PM 64 °F 39 °F 40 % N 3 mph 0 mph 29.81 in 0.0 in Fair',\n",
       " '5:50 PM 63 °F 39 °F 42 % NE 6 mph 0 mph 29.81 in 0.0 in Fair',\n",
       " '6:20 PM 61 °F 39 °F 45 % N 5 mph 0 mph 29.81 in 0.0 in Fair',\n",
       " '6:50 PM 61 °F 41 °F 48 % NW 8 mph 0 mph 29.81 in 0.0 in Fair',\n",
       " '7:20 PM 59 °F 41 °F 51 % NW 8 mph 0 mph 29.81 in 0.0 in Fair',\n",
       " '7:50 PM 59 °F 43 °F 55 % NW 9 mph 0 mph 29.81 in 0.0 in Fair',\n",
       " '8:20 PM 59 °F 43 °F 55 % NNW 9 mph 0 mph 29.81 in 0.0 in Fair',\n",
       " '8:50 PM 57 °F 43 °F 59 % N 9 mph 0 mph 29.84 in 0.0 in Fair',\n",
       " '9:20 PM 57 °F 41 °F 55 % N 9 mph 0 mph 29.84 in 0.0 in Fair',\n",
       " '9:50 PM 55 °F 41 °F 58 % N 6 mph 0 mph 29.84 in 0.0 in Fair',\n",
       " '10:20 PM 54 °F 41 °F 62 % N 8 mph 0 mph 29.84 in 0.0 in Fair',\n",
       " '10:50 PM 55 °F 41 °F 58 % N 8 mph 0 mph 29.84 in 0.0 in Fair',\n",
       " '11:20 PM 54 °F 39 °F 58 % NNE 6 mph 0 mph 29.84 in 0.0 in Fair',\n",
       " '11:50 PM 52 °F 41 °F 67 % NNW 6 mph 0 mph 29.84 in 0.0 in Fair',\n",
       " '',\n",
       " '',\n",
       " '',\n",
       " '',\n",
       " '',\n",
       " '',\n",
       " '',\n",
       " '',\n",
       " '',\n",
       " '',\n",
       " 'Temperature (° F) Actual Historic Avg. Record',\n",
       " 'High Temp 64 50.3 --',\n",
       " 'Low Temp 41 35.9 --',\n",
       " 'Day Average Temp 53.35 43 -',\n",
       " 'Precipitation (Inches) Actual Historic Avg. Record',\n",
       " 'Precipitation (past 24 hours from 23:20:00) 0.00 0.10 -',\n",
       " 'Dew Point (° F) Actual Historic Avg. Record',\n",
       " 'Dew Point 39.38 - -',\n",
       " 'High 43 - -',\n",
       " 'Low 37 - -',\n",
       " 'Average 39.38 - -',\n",
       " 'Wind (MPH) Actual Historic Avg. Record',\n",
       " 'Max Wind Speed 10 - -',\n",
       " 'Visibility 6 - -',\n",
       " 'Sea Level Pressure (Hg) Actual Historic Avg. Record',\n",
       " 'Sea Level Pressure 29.87 - -',\n",
       " 'Astronomy Day Length Rise Set',\n",
       " 'Actual Time 12h 0m 6:35 AM 6:35 PM',\n",
       " 'Civil Twilight 6:02 AM 7:07 PM',\n",
       " 'Nautical Twilight 5:25 AM 7:45 PM',\n",
       " 'Astronomical Twilight 4:45 AM 8:24 PM',\n",
       " 'Moon: waning crescent 5:18 AM 4:19 PM',\n",
       " 'Time\\nTemperature\\nDew Point\\nHumidity\\nWind\\nWind Speed\\nWind Gust\\nPressure\\nPrecip.\\nCondition',\n",
       " '12:20 AM 50 °F 39 °F 66 % NNE 9 mph 0 mph 29.81 in 0.0 in Fair',\n",
       " '12:50 AM 48 °F 37 °F 66 % NNE 10 mph 0 mph 29.81 in 0.0 in Fair',\n",
       " '1:20 AM 48 °F 39 °F 71 % NNE 6 mph 0 mph 29.81 in 0.0 in Fair',\n",
       " '1:50 AM 48 °F 39 °F 71 % E 5 mph 0 mph 29.81 in 0.0 in Fair',\n",
       " '2:20 AM 46 °F 39 °F 76 % E 6 mph 0 mph 29.81 in 0.0 in Fair',\n",
       " '2:50 AM 45 °F 39 °F 81 % E 7 mph 0 mph 29.81 in 0.0 in Fair',\n",
       " '3:20 AM 43 °F 39 °F 87 % ENE 6 mph 0 mph 29.81 in 0.0 in Fair',\n",
       " '3:50 AM 43 °F 37 °F 81 % ENE 6 mph 0 mph 29.81 in 0.0 in Fair',\n",
       " '4:20 AM 43 °F 39 °F 87 % ENE 6 mph 0 mph 29.81 in 0.0 in Fair',\n",
       " '4:50 AM 43 °F 37 °F 81 % E 6 mph 0 mph 29.81 in 0.0 in Fair',\n",
       " '5:20 AM 43 °F 39 °F 87 % E 6 mph 0 mph 29.84 in 0.0 in Fair',\n",
       " '5:50 AM 43 °F 37 °F 81 % E 7 mph 0 mph 29.84 in 0.0 in Fair',\n",
       " '6:20 AM 43 °F 39 °F 87 % ENE 5 mph 0 mph 29.84 in 0.0 in Fair',\n",
       " '6:50 AM 43 °F 37 °F 81 % VAR 2 mph 0 mph 29.84 in 0.0 in Fair',\n",
       " '7:20 AM 41 °F 37 °F 87 % NNE 3 mph 0 mph 29.84 in 0.0 in Shallow Fog',\n",
       " '7:50 AM 43 °F 39 °F 87 % VAR 2 mph 0 mph 29.84 in 0.0 in Shallow Fog',\n",
       " '8:20 AM 43 °F 39 °F 87 % E 3 mph 0 mph 29.87 in 0.0 in Shallow Fog',\n",
       " '8:50 AM 46 °F 39 °F 76 % VAR 2 mph 0 mph 29.87 in 0.0 in Fair',\n",
       " '9:20 AM 50 °F 41 °F 71 % NE 3 mph 0 mph 29.87 in 0.0 in Fair',\n",
       " '9:50 AM 52 °F 39 °F 62 % ENE 7 mph 0 mph 29.87 in 0.0 in Fair',\n",
       " '10:20 AM 52 °F 39 °F 62 % E 7 mph 0 mph 29.87 in 0.0 in Fair',\n",
       " '10:50 AM 54 °F 39 °F 58 % E 6 mph 0 mph 29.87 in 0.0 in Fair',\n",
       " '11:20 AM 55 °F 39 °F 54 % SE 6 mph 0 mph 29.87 in 0.0 in Fair',\n",
       " '11:50 AM 57 °F 37 °F 48 % E 6 mph 0 mph 29.84 in 0.0 in Fair',\n",
       " '12:20 PM 59 °F 39 °F 48 % ESE 5 mph 0 mph 29.84 in 0.0 in Fair',\n",
       " '12:50 PM 61 °F 39 °F 45 % VAR 3 mph 0 mph 29.84 in 0.0 in Fair',\n",
       " '1:20 PM 63 °F 39 °F 42 % ENE 7 mph 0 mph 29.84 in 0.0 in Fair',\n",
       " '1:50 PM 63 °F 37 °F 39 % NNE 6 mph 0 mph 29.81 in 0.0 in Fair',\n",
       " '2:20 PM 63 °F 39 °F 42 % VAR 5 mph 0 mph 29.81 in 0.0 in Fair',\n",
       " '2:50 PM 64 °F 39 °F 40 % VAR 6 mph 0 mph 29.81 in 0.0 in Fair',\n",
       " '3:20 PM 64 °F 41 °F 42 % N 3 mph 0 mph 29.81 in 0.0 in Fair',\n",
       " '3:50 PM 64 °F 39 °F 40 % VAR 2 mph 0 mph 29.81 in 0.0 in Fair',\n",
       " '4:20 PM 64 °F 41 °F 42 % VAR 2 mph 0 mph 29.81 in 0.0 in Fair',\n",
       " '4:50 PM 64 °F 41 °F 42 % N 5 mph 0 mph 29.81 in 0.0 in Fair',\n",
       " '5:20 PM 64 °F 39 °F 40 % N 3 mph 0 mph 29.81 in 0.0 in Fair',\n",
       " '5:50 PM 63 °F 39 °F 42 % NE 6 mph 0 mph 29.81 in 0.0 in Fair',\n",
       " '6:20 PM 61 °F 39 °F 45 % N 5 mph 0 mph 29.81 in 0.0 in Fair',\n",
       " '6:50 PM 61 °F 41 °F 48 % NW 8 mph 0 mph 29.81 in 0.0 in Fair',\n",
       " '7:20 PM 59 °F 41 °F 51 % NW 8 mph 0 mph 29.81 in 0.0 in Fair',\n",
       " '7:50 PM 59 °F 43 °F 55 % NW 9 mph 0 mph 29.81 in 0.0 in Fair',\n",
       " '8:20 PM 59 °F 43 °F 55 % NNW 9 mph 0 mph 29.81 in 0.0 in Fair',\n",
       " '8:50 PM 57 °F 43 °F 59 % N 9 mph 0 mph 29.84 in 0.0 in Fair',\n",
       " '9:20 PM 57 °F 41 °F 55 % N 9 mph 0 mph 29.84 in 0.0 in Fair',\n",
       " '9:50 PM 55 °F 41 °F 58 % N 6 mph 0 mph 29.84 in 0.0 in Fair',\n",
       " '10:20 PM 54 °F 41 °F 62 % N 8 mph 0 mph 29.84 in 0.0 in Fair',\n",
       " '10:50 PM 55 °F 41 °F 58 % N 8 mph 0 mph 29.84 in 0.0 in Fair',\n",
       " '11:20 PM 54 °F 39 °F 58 % NNE 6 mph 0 mph 29.84 in 0.0 in Fair',\n",
       " '11:50 PM 52 °F 41 °F 67 % NNW 6 mph 0 mph 29.84 in 0.0 in Fair',\n",
       " '',\n",
       " '',\n",
       " '',\n",
       " '',\n",
       " '',\n",
       " '',\n",
       " '',\n",
       " '',\n",
       " '',\n",
       " '',\n",
       " 'Temperature (° F) Actual Historic Avg. Record',\n",
       " 'High Temp 64 50.3 --',\n",
       " 'Low Temp 41 35.9 --',\n",
       " 'Day Average Temp 53.35 43 -',\n",
       " 'Precipitation (Inches) Actual Historic Avg. Record',\n",
       " 'Precipitation (past 24 hours from 23:20:00) 0.00 0.10 -',\n",
       " 'Dew Point (° F) Actual Historic Avg. Record',\n",
       " 'Dew Point 39.38 - -',\n",
       " 'High 43 - -',\n",
       " 'Low 37 - -',\n",
       " 'Average 39.38 - -',\n",
       " 'Wind (MPH) Actual Historic Avg. Record',\n",
       " 'Max Wind Speed 10 - -',\n",
       " 'Visibility 6 - -',\n",
       " 'Sea Level Pressure (Hg) Actual Historic Avg. Record',\n",
       " 'Sea Level Pressure 29.87 - -',\n",
       " 'Astronomy Day Length Rise Set',\n",
       " 'Actual Time 12h 0m 6:35 AM 6:35 PM',\n",
       " 'Civil Twilight 6:02 AM 7:07 PM',\n",
       " 'Nautical Twilight 5:25 AM 7:45 PM',\n",
       " 'Astronomical Twilight 4:45 AM 8:24 PM',\n",
       " 'Moon: waning crescent 5:18 AM 4:19 PM',\n",
       " 'Time\\nTemperature\\nDew Point\\nHumidity\\nWind\\nWind Speed\\nWind Gust\\nPressure\\nPrecip.\\nCondition',\n",
       " '12:20 AM 50 °F 39 °F 66 % NNE 9 mph 0 mph 29.81 in 0.0 in Fair',\n",
       " '12:50 AM 48 °F 37 °F 66 % NNE 10 mph 0 mph 29.81 in 0.0 in Fair',\n",
       " '1:20 AM 48 °F 39 °F 71 % NNE 6 mph 0 mph 29.81 in 0.0 in Fair',\n",
       " '1:50 AM 48 °F 39 °F 71 % E 5 mph 0 mph 29.81 in 0.0 in Fair',\n",
       " '2:20 AM 46 °F 39 °F 76 % E 6 mph 0 mph 29.81 in 0.0 in Fair',\n",
       " '2:50 AM 45 °F 39 °F 81 % E 7 mph 0 mph 29.81 in 0.0 in Fair',\n",
       " '3:20 AM 43 °F 39 °F 87 % ENE 6 mph 0 mph 29.81 in 0.0 in Fair',\n",
       " '3:50 AM 43 °F 37 °F 81 % ENE 6 mph 0 mph 29.81 in 0.0 in Fair',\n",
       " '4:20 AM 43 °F 39 °F 87 % ENE 6 mph 0 mph 29.81 in 0.0 in Fair',\n",
       " '4:50 AM 43 °F 37 °F 81 % E 6 mph 0 mph 29.81 in 0.0 in Fair',\n",
       " '5:20 AM 43 °F 39 °F 87 % E 6 mph 0 mph 29.84 in 0.0 in Fair',\n",
       " '5:50 AM 43 °F 37 °F 81 % E 7 mph 0 mph 29.84 in 0.0 in Fair',\n",
       " '6:20 AM 43 °F 39 °F 87 % ENE 5 mph 0 mph 29.84 in 0.0 in Fair',\n",
       " '6:50 AM 43 °F 37 °F 81 % VAR 2 mph 0 mph 29.84 in 0.0 in Fair',\n",
       " '7:20 AM 41 °F 37 °F 87 % NNE 3 mph 0 mph 29.84 in 0.0 in Shallow Fog',\n",
       " '7:50 AM 43 °F 39 °F 87 % VAR 2 mph 0 mph 29.84 in 0.0 in Shallow Fog',\n",
       " '8:20 AM 43 °F 39 °F 87 % E 3 mph 0 mph 29.87 in 0.0 in Shallow Fog',\n",
       " '8:50 AM 46 °F 39 °F 76 % VAR 2 mph 0 mph 29.87 in 0.0 in Fair',\n",
       " '9:20 AM 50 °F 41 °F 71 % NE 3 mph 0 mph 29.87 in 0.0 in Fair',\n",
       " '9:50 AM 52 °F 39 °F 62 % ENE 7 mph 0 mph 29.87 in 0.0 in Fair',\n",
       " '10:20 AM 52 °F 39 °F 62 % E 7 mph 0 mph 29.87 in 0.0 in Fair',\n",
       " '10:50 AM 54 °F 39 °F 58 % E 6 mph 0 mph 29.87 in 0.0 in Fair',\n",
       " '11:20 AM 55 °F 39 °F 54 % SE 6 mph 0 mph 29.87 in 0.0 in Fair',\n",
       " '11:50 AM 57 °F 37 °F 48 % E 6 mph 0 mph 29.84 in 0.0 in Fair',\n",
       " '12:20 PM 59 °F 39 °F 48 % ESE 5 mph 0 mph 29.84 in 0.0 in Fair',\n",
       " '12:50 PM 61 °F 39 °F 45 % VAR 3 mph 0 mph 29.84 in 0.0 in Fair',\n",
       " '1:20 PM 63 °F 39 °F 42 % ENE 7 mph 0 mph 29.84 in 0.0 in Fair',\n",
       " '1:50 PM 63 °F 37 °F 39 % NNE 6 mph 0 mph 29.81 in 0.0 in Fair',\n",
       " '2:20 PM 63 °F 39 °F 42 % VAR 5 mph 0 mph 29.81 in 0.0 in Fair',\n",
       " '2:50 PM 64 °F 39 °F 40 % VAR 6 mph 0 mph 29.81 in 0.0 in Fair',\n",
       " '3:20 PM 64 °F 41 °F 42 % N 3 mph 0 mph 29.81 in 0.0 in Fair',\n",
       " '3:50 PM 64 °F 39 °F 40 % VAR 2 mph 0 mph 29.81 in 0.0 in Fair',\n",
       " '4:20 PM 64 °F 41 °F 42 % VAR 2 mph 0 mph 29.81 in 0.0 in Fair',\n",
       " '4:50 PM 64 °F 41 °F 42 % N 5 mph 0 mph 29.81 in 0.0 in Fair',\n",
       " '5:20 PM 64 °F 39 °F 40 % N 3 mph 0 mph 29.81 in 0.0 in Fair',\n",
       " '5:50 PM 63 °F 39 °F 42 % NE 6 mph 0 mph 29.81 in 0.0 in Fair',\n",
       " '6:20 PM 61 °F 39 °F 45 % N 5 mph 0 mph 29.81 in 0.0 in Fair',\n",
       " '6:50 PM 61 °F 41 °F 48 % NW 8 mph 0 mph 29.81 in 0.0 in Fair',\n",
       " '7:20 PM 59 °F 41 °F 51 % NW 8 mph 0 mph 29.81 in 0.0 in Fair',\n",
       " '7:50 PM 59 °F 43 °F 55 % NW 9 mph 0 mph 29.81 in 0.0 in Fair',\n",
       " '8:20 PM 59 °F 43 °F 55 % NNW 9 mph 0 mph 29.81 in 0.0 in Fair',\n",
       " '8:50 PM 57 °F 43 °F 59 % N 9 mph 0 mph 29.84 in 0.0 in Fair',\n",
       " '9:20 PM 57 °F 41 °F 55 % N 9 mph 0 mph 29.84 in 0.0 in Fair',\n",
       " '9:50 PM 55 °F 41 °F 58 % N 6 mph 0 mph 29.84 in 0.0 in Fair',\n",
       " '10:20 PM 54 °F 41 °F 62 % N 8 mph 0 mph 29.84 in 0.0 in Fair',\n",
       " '10:50 PM 55 °F 41 °F 58 % N 8 mph 0 mph 29.84 in 0.0 in Fair',\n",
       " '11:20 PM 54 °F 39 °F 58 % NNE 6 mph 0 mph 29.84 in 0.0 in Fair',\n",
       " '11:50 PM 52 °F 41 °F 67 % NNW 6 mph 0 mph 29.84 in 0.0 in Fair',\n",
       " '',\n",
       " '',\n",
       " '',\n",
       " '',\n",
       " '',\n",
       " '',\n",
       " '',\n",
       " '',\n",
       " '',\n",
       " '',\n",
       " 'Temperature (° F) Actual Historic Avg. Record',\n",
       " 'High Temp 64 50.3 --',\n",
       " 'Low Temp 41 35.9 --',\n",
       " 'Day Average Temp 53.35 43 -',\n",
       " 'Precipitation (Inches) Actual Historic Avg. Record',\n",
       " 'Precipitation (past 24 hours from 23:20:00) 0.00 0.10 -',\n",
       " 'Dew Point (° F) Actual Historic Avg. Record',\n",
       " 'Dew Point 39.38 - -',\n",
       " 'High 43 - -',\n",
       " 'Low 37 - -',\n",
       " 'Average 39.38 - -',\n",
       " 'Wind (MPH) Actual Historic Avg. Record',\n",
       " 'Max Wind Speed 10 - -',\n",
       " 'Visibility 6 - -',\n",
       " 'Sea Level Pressure (Hg) Actual Historic Avg. Record',\n",
       " 'Sea Level Pressure 29.87 - -',\n",
       " 'Astronomy Day Length Rise Set',\n",
       " 'Actual Time 12h 0m 6:35 AM 6:35 PM',\n",
       " 'Civil Twilight 6:02 AM 7:07 PM',\n",
       " 'Nautical Twilight 5:25 AM 7:45 PM',\n",
       " 'Astronomical Twilight 4:45 AM 8:24 PM',\n",
       " 'Moon: waning crescent 5:18 AM 4:19 PM',\n",
       " 'Time\\nTemperature\\nDew Point\\nHumidity\\nWind\\nWind Speed\\nWind Gust\\nPressure\\nPrecip.\\nCondition',\n",
       " '12:20 AM 50 °F 39 °F 66 % NNE 9 mph 0 mph 29.81 in 0.0 in Fair',\n",
       " '12:50 AM 48 °F 37 °F 66 % NNE 10 mph 0 mph 29.81 in 0.0 in Fair',\n",
       " '1:20 AM 48 °F 39 °F 71 % NNE 6 mph 0 mph 29.81 in 0.0 in Fair',\n",
       " '1:50 AM 48 °F 39 °F 71 % E 5 mph 0 mph 29.81 in 0.0 in Fair',\n",
       " '2:20 AM 46 °F 39 °F 76 % E 6 mph 0 mph 29.81 in 0.0 in Fair',\n",
       " '2:50 AM 45 °F 39 °F 81 % E 7 mph 0 mph 29.81 in 0.0 in Fair',\n",
       " '3:20 AM 43 °F 39 °F 87 % ENE 6 mph 0 mph 29.81 in 0.0 in Fair',\n",
       " '3:50 AM 43 °F 37 °F 81 % ENE 6 mph 0 mph 29.81 in 0.0 in Fair',\n",
       " '4:20 AM 43 °F 39 °F 87 % ENE 6 mph 0 mph 29.81 in 0.0 in Fair',\n",
       " '4:50 AM 43 °F 37 °F 81 % E 6 mph 0 mph 29.81 in 0.0 in Fair',\n",
       " '5:20 AM 43 °F 39 °F 87 % E 6 mph 0 mph 29.84 in 0.0 in Fair',\n",
       " '5:50 AM 43 °F 37 °F 81 % E 7 mph 0 mph 29.84 in 0.0 in Fair',\n",
       " '6:20 AM 43 °F 39 °F 87 % ENE 5 mph 0 mph 29.84 in 0.0 in Fair',\n",
       " '6:50 AM 43 °F 37 °F 81 % VAR 2 mph 0 mph 29.84 in 0.0 in Fair',\n",
       " '7:20 AM 41 °F 37 °F 87 % NNE 3 mph 0 mph 29.84 in 0.0 in Shallow Fog',\n",
       " '7:50 AM 43 °F 39 °F 87 % VAR 2 mph 0 mph 29.84 in 0.0 in Shallow Fog',\n",
       " '8:20 AM 43 °F 39 °F 87 % E 3 mph 0 mph 29.87 in 0.0 in Shallow Fog',\n",
       " '8:50 AM 46 °F 39 °F 76 % VAR 2 mph 0 mph 29.87 in 0.0 in Fair',\n",
       " '9:20 AM 50 °F 41 °F 71 % NE 3 mph 0 mph 29.87 in 0.0 in Fair',\n",
       " '9:50 AM 52 °F 39 °F 62 % ENE 7 mph 0 mph 29.87 in 0.0 in Fair',\n",
       " '10:20 AM 52 °F 39 °F 62 % E 7 mph 0 mph 29.87 in 0.0 in Fair',\n",
       " '10:50 AM 54 °F 39 °F 58 % E 6 mph 0 mph 29.87 in 0.0 in Fair',\n",
       " '11:20 AM 55 °F 39 °F 54 % SE 6 mph 0 mph 29.87 in 0.0 in Fair',\n",
       " '11:50 AM 57 °F 37 °F 48 % E 6 mph 0 mph 29.84 in 0.0 in Fair',\n",
       " '12:20 PM 59 °F 39 °F 48 % ESE 5 mph 0 mph 29.84 in 0.0 in Fair',\n",
       " '12:50 PM 61 °F 39 °F 45 % VAR 3 mph 0 mph 29.84 in 0.0 in Fair',\n",
       " '1:20 PM 63 °F 39 °F 42 % ENE 7 mph 0 mph 29.84 in 0.0 in Fair',\n",
       " '1:50 PM 63 °F 37 °F 39 % NNE 6 mph 0 mph 29.81 in 0.0 in Fair',\n",
       " '2:20 PM 63 °F 39 °F 42 % VAR 5 mph 0 mph 29.81 in 0.0 in Fair',\n",
       " '2:50 PM 64 °F 39 °F 40 % VAR 6 mph 0 mph 29.81 in 0.0 in Fair',\n",
       " '3:20 PM 64 °F 41 °F 42 % N 3 mph 0 mph 29.81 in 0.0 in Fair',\n",
       " '3:50 PM 64 °F 39 °F 40 % VAR 2 mph 0 mph 29.81 in 0.0 in Fair',\n",
       " '4:20 PM 64 °F 41 °F 42 % VAR 2 mph 0 mph 29.81 in 0.0 in Fair',\n",
       " '4:50 PM 64 °F 41 °F 42 % N 5 mph 0 mph 29.81 in 0.0 in Fair',\n",
       " '5:20 PM 64 °F 39 °F 40 % N 3 mph 0 mph 29.81 in 0.0 in Fair',\n",
       " '5:50 PM 63 °F 39 °F 42 % NE 6 mph 0 mph 29.81 in 0.0 in Fair',\n",
       " '6:20 PM 61 °F 39 °F 45 % N 5 mph 0 mph 29.81 in 0.0 in Fair',\n",
       " '6:50 PM 61 °F 41 °F 48 % NW 8 mph 0 mph 29.81 in 0.0 in Fair',\n",
       " '7:20 PM 59 °F 41 °F 51 % NW 8 mph 0 mph 29.81 in 0.0 in Fair',\n",
       " '7:50 PM 59 °F 43 °F 55 % NW 9 mph 0 mph 29.81 in 0.0 in Fair',\n",
       " '8:20 PM 59 °F 43 °F 55 % NNW 9 mph 0 mph 29.81 in 0.0 in Fair',\n",
       " '8:50 PM 57 °F 43 °F 59 % N 9 mph 0 mph 29.84 in 0.0 in Fair',\n",
       " '9:20 PM 57 °F 41 °F 55 % N 9 mph 0 mph 29.84 in 0.0 in Fair',\n",
       " '9:50 PM 55 °F 41 °F 58 % N 6 mph 0 mph 29.84 in 0.0 in Fair',\n",
       " '10:20 PM 54 °F 41 °F 62 % N 8 mph 0 mph 29.84 in 0.0 in Fair',\n",
       " '10:50 PM 55 °F 41 °F 58 % N 8 mph 0 mph 29.84 in 0.0 in Fair',\n",
       " '11:20 PM 54 °F 39 °F 58 % NNE 6 mph 0 mph 29.84 in 0.0 in Fair',\n",
       " '11:50 PM 52 °F 41 °F 67 % NNW 6 mph 0 mph 29.84 in 0.0 in Fair',\n",
       " '',\n",
       " '',\n",
       " '',\n",
       " '',\n",
       " '',\n",
       " '',\n",
       " '',\n",
       " '',\n",
       " '',\n",
       " '',\n",
       " 'Temperature (° F) Actual Historic Avg. Record',\n",
       " 'High Temp 64 50.3 --',\n",
       " 'Low Temp 41 35.9 --',\n",
       " 'Day Average Temp 53.35 43 -',\n",
       " 'Precipitation (Inches) Actual Historic Avg. Record',\n",
       " 'Precipitation (past 24 hours from 23:20:00) 0.00 0.10 -',\n",
       " 'Dew Point (° F) Actual Historic Avg. Record',\n",
       " 'Dew Point 39.38 - -',\n",
       " 'High 43 - -',\n",
       " 'Low 37 - -',\n",
       " 'Average 39.38 - -',\n",
       " 'Wind (MPH) Actual Historic Avg. Record',\n",
       " 'Max Wind Speed 10 - -',\n",
       " 'Visibility 6 - -',\n",
       " 'Sea Level Pressure (Hg) Actual Historic Avg. Record',\n",
       " 'Sea Level Pressure 29.87 - -',\n",
       " 'Astronomy Day Length Rise Set',\n",
       " 'Actual Time 12h 0m 6:35 AM 6:35 PM',\n",
       " 'Civil Twilight 6:02 AM 7:07 PM',\n",
       " 'Nautical Twilight 5:25 AM 7:45 PM',\n",
       " 'Astronomical Twilight 4:45 AM 8:24 PM',\n",
       " 'Moon: waning crescent 5:18 AM 4:19 PM',\n",
       " 'Time\\nTemperature\\nDew Point\\nHumidity\\nWind\\nWind Speed\\nWind Gust\\nPressure\\nPrecip.\\nCondition',\n",
       " '12:20 AM 50 °F 39 °F 66 % NNE 9 mph 0 mph 29.81 in 0.0 in Fair',\n",
       " '12:50 AM 48 °F 37 °F 66 % NNE 10 mph 0 mph 29.81 in 0.0 in Fair',\n",
       " '1:20 AM 48 °F 39 °F 71 % NNE 6 mph 0 mph 29.81 in 0.0 in Fair',\n",
       " '1:50 AM 48 °F 39 °F 71 % E 5 mph 0 mph 29.81 in 0.0 in Fair',\n",
       " '2:20 AM 46 °F 39 °F 76 % E 6 mph 0 mph 29.81 in 0.0 in Fair',\n",
       " '2:50 AM 45 °F 39 °F 81 % E 7 mph 0 mph 29.81 in 0.0 in Fair',\n",
       " '3:20 AM 43 °F 39 °F 87 % ENE 6 mph 0 mph 29.81 in 0.0 in Fair',\n",
       " '3:50 AM 43 °F 37 °F 81 % ENE 6 mph 0 mph 29.81 in 0.0 in Fair',\n",
       " '4:20 AM 43 °F 39 °F 87 % ENE 6 mph 0 mph 29.81 in 0.0 in Fair',\n",
       " '4:50 AM 43 °F 37 °F 81 % E 6 mph 0 mph 29.81 in 0.0 in Fair',\n",
       " '5:20 AM 43 °F 39 °F 87 % E 6 mph 0 mph 29.84 in 0.0 in Fair',\n",
       " '5:50 AM 43 °F 37 °F 81 % E 7 mph 0 mph 29.84 in 0.0 in Fair',\n",
       " '6:20 AM 43 °F 39 °F 87 % ENE 5 mph 0 mph 29.84 in 0.0 in Fair',\n",
       " '6:50 AM 43 °F 37 °F 81 % VAR 2 mph 0 mph 29.84 in 0.0 in Fair',\n",
       " '7:20 AM 41 °F 37 °F 87 % NNE 3 mph 0 mph 29.84 in 0.0 in Shallow Fog',\n",
       " '7:50 AM 43 °F 39 °F 87 % VAR 2 mph 0 mph 29.84 in 0.0 in Shallow Fog',\n",
       " '8:20 AM 43 °F 39 °F 87 % E 3 mph 0 mph 29.87 in 0.0 in Shallow Fog',\n",
       " '8:50 AM 46 °F 39 °F 76 % VAR 2 mph 0 mph 29.87 in 0.0 in Fair',\n",
       " '9:20 AM 50 °F 41 °F 71 % NE 3 mph 0 mph 29.87 in 0.0 in Fair',\n",
       " '9:50 AM 52 °F 39 °F 62 % ENE 7 mph 0 mph 29.87 in 0.0 in Fair',\n",
       " '10:20 AM 52 °F 39 °F 62 % E 7 mph 0 mph 29.87 in 0.0 in Fair',\n",
       " '10:50 AM 54 °F 39 °F 58 % E 6 mph 0 mph 29.87 in 0.0 in Fair',\n",
       " '11:20 AM 55 °F 39 °F 54 % SE 6 mph 0 mph 29.87 in 0.0 in Fair',\n",
       " '11:50 AM 57 °F 37 °F 48 % E 6 mph 0 mph 29.84 in 0.0 in Fair',\n",
       " '12:20 PM 59 °F 39 °F 48 % ESE 5 mph 0 mph 29.84 in 0.0 in Fair',\n",
       " '12:50 PM 61 °F 39 °F 45 % VAR 3 mph 0 mph 29.84 in 0.0 in Fair',\n",
       " '1:20 PM 63 °F 39 °F 42 % ENE 7 mph 0 mph 29.84 in 0.0 in Fair',\n",
       " '1:50 PM 63 °F 37 °F 39 % NNE 6 mph 0 mph 29.81 in 0.0 in Fair',\n",
       " '2:20 PM 63 °F 39 °F 42 % VAR 5 mph 0 mph 29.81 in 0.0 in Fair',\n",
       " '2:50 PM 64 °F 39 °F 40 % VAR 6 mph 0 mph 29.81 in 0.0 in Fair',\n",
       " '3:20 PM 64 °F 41 °F 42 % N 3 mph 0 mph 29.81 in 0.0 in Fair',\n",
       " '3:50 PM 64 °F 39 °F 40 % VAR 2 mph 0 mph 29.81 in 0.0 in Fair',\n",
       " '4:20 PM 64 °F 41 °F 42 % VAR 2 mph 0 mph 29.81 in 0.0 in Fair',\n",
       " '4:50 PM 64 °F 41 °F 42 % N 5 mph 0 mph 29.81 in 0.0 in Fair',\n",
       " '5:20 PM 64 °F 39 °F 40 % N 3 mph 0 mph 29.81 in 0.0 in Fair',\n",
       " '5:50 PM 63 °F 39 °F 42 % NE 6 mph 0 mph 29.81 in 0.0 in Fair',\n",
       " '6:20 PM 61 °F 39 °F 45 % N 5 mph 0 mph 29.81 in 0.0 in Fair',\n",
       " '6:50 PM 61 °F 41 °F 48 % NW 8 mph 0 mph 29.81 in 0.0 in Fair',\n",
       " '7:20 PM 59 °F 41 °F 51 % NW 8 mph 0 mph 29.81 in 0.0 in Fair',\n",
       " '7:50 PM 59 °F 43 °F 55 % NW 9 mph 0 mph 29.81 in 0.0 in Fair',\n",
       " '8:20 PM 59 °F 43 °F 55 % NNW 9 mph 0 mph 29.81 in 0.0 in Fair',\n",
       " '8:50 PM 57 °F 43 °F 59 % N 9 mph 0 mph 29.84 in 0.0 in Fair',\n",
       " '9:20 PM 57 °F 41 °F 55 % N 9 mph 0 mph 29.84 in 0.0 in Fair',\n",
       " '9:50 PM 55 °F 41 °F 58 % N 6 mph 0 mph 29.84 in 0.0 in Fair',\n",
       " '10:20 PM 54 °F 41 °F 62 % N 8 mph 0 mph 29.84 in 0.0 in Fair',\n",
       " '10:50 PM 55 °F 41 °F 58 % N 8 mph 0 mph 29.84 in 0.0 in Fair',\n",
       " '11:20 PM 54 °F 39 °F 58 % NNE 6 mph 0 mph 29.84 in 0.0 in Fair',\n",
       " '11:50 PM 52 °F 41 °F 67 % NNW 6 mph 0 mph 29.84 in 0.0 in Fair',\n",
       " '',\n",
       " '',\n",
       " '',\n",
       " '',\n",
       " '',\n",
       " '',\n",
       " '',\n",
       " '',\n",
       " '',\n",
       " '',\n",
       " 'Temperature (° F) Actual Historic Avg. Record',\n",
       " 'High Temp 64 50.3 --',\n",
       " 'Low Temp 41 35.9 --',\n",
       " 'Day Average Temp 53.35 43 -',\n",
       " 'Precipitation (Inches) Actual Historic Avg. Record',\n",
       " 'Precipitation (past 24 hours from 23:20:00) 0.00 0.10 -',\n",
       " 'Dew Point (° F) Actual Historic Avg. Record',\n",
       " 'Dew Point 39.38 - -',\n",
       " 'High 43 - -',\n",
       " 'Low 37 - -',\n",
       " 'Average 39.38 - -',\n",
       " 'Wind (MPH) Actual Historic Avg. Record',\n",
       " 'Max Wind Speed 10 - -',\n",
       " 'Visibility 6 - -',\n",
       " 'Sea Level Pressure (Hg) Actual Historic Avg. Record',\n",
       " 'Sea Level Pressure 29.87 - -',\n",
       " 'Astronomy Day Length Rise Set',\n",
       " 'Actual Time 12h 0m 6:35 AM 6:35 PM',\n",
       " 'Civil Twilight 6:02 AM 7:07 PM',\n",
       " 'Nautical Twilight 5:25 AM 7:45 PM',\n",
       " 'Astronomical Twilight 4:45 AM 8:24 PM',\n",
       " 'Moon: waning crescent 5:18 AM 4:19 PM',\n",
       " 'Time\\nTemperature\\nDew Point\\nHumidity\\nWind\\nWind Speed\\nWind Gust\\nPressure\\nPrecip.\\nCondition',\n",
       " '12:20 AM 50 °F 39 °F 66 % NNE 9 mph 0 mph 29.81 in 0.0 in Fair',\n",
       " '12:50 AM 48 °F 37 °F 66 % NNE 10 mph 0 mph 29.81 in 0.0 in Fair',\n",
       " '1:20 AM 48 °F 39 °F 71 % NNE 6 mph 0 mph 29.81 in 0.0 in Fair',\n",
       " '1:50 AM 48 °F 39 °F 71 % E 5 mph 0 mph 29.81 in 0.0 in Fair',\n",
       " '2:20 AM 46 °F 39 °F 76 % E 6 mph 0 mph 29.81 in 0.0 in Fair',\n",
       " '2:50 AM 45 °F 39 °F 81 % E 7 mph 0 mph 29.81 in 0.0 in Fair',\n",
       " '3:20 AM 43 °F 39 °F 87 % ENE 6 mph 0 mph 29.81 in 0.0 in Fair',\n",
       " '3:50 AM 43 °F 37 °F 81 % ENE 6 mph 0 mph 29.81 in 0.0 in Fair',\n",
       " '4:20 AM 43 °F 39 °F 87 % ENE 6 mph 0 mph 29.81 in 0.0 in Fair',\n",
       " '4:50 AM 43 °F 37 °F 81 % E 6 mph 0 mph 29.81 in 0.0 in Fair',\n",
       " '5:20 AM 43 °F 39 °F 87 % E 6 mph 0 mph 29.84 in 0.0 in Fair',\n",
       " '5:50 AM 43 °F 37 °F 81 % E 7 mph 0 mph 29.84 in 0.0 in Fair',\n",
       " '6:20 AM 43 °F 39 °F 87 % ENE 5 mph 0 mph 29.84 in 0.0 in Fair',\n",
       " '6:50 AM 43 °F 37 °F 81 % VAR 2 mph 0 mph 29.84 in 0.0 in Fair',\n",
       " '7:20 AM 41 °F 37 °F 87 % NNE 3 mph 0 mph 29.84 in 0.0 in Shallow Fog',\n",
       " '7:50 AM 43 °F 39 °F 87 % VAR 2 mph 0 mph 29.84 in 0.0 in Shallow Fog',\n",
       " '8:20 AM 43 °F 39 °F 87 % E 3 mph 0 mph 29.87 in 0.0 in Shallow Fog',\n",
       " '8:50 AM 46 °F 39 °F 76 % VAR 2 mph 0 mph 29.87 in 0.0 in Fair',\n",
       " '9:20 AM 50 °F 41 °F 71 % NE 3 mph 0 mph 29.87 in 0.0 in Fair',\n",
       " '9:50 AM 52 °F 39 °F 62 % ENE 7 mph 0 mph 29.87 in 0.0 in Fair',\n",
       " '10:20 AM 52 °F 39 °F 62 % E 7 mph 0 mph 29.87 in 0.0 in Fair',\n",
       " '10:50 AM 54 °F 39 °F 58 % E 6 mph 0 mph 29.87 in 0.0 in Fair',\n",
       " '11:20 AM 55 °F 39 °F 54 % SE 6 mph 0 mph 29.87 in 0.0 in Fair',\n",
       " '11:50 AM 57 °F 37 °F 48 % E 6 mph 0 mph 29.84 in 0.0 in Fair',\n",
       " '12:20 PM 59 °F 39 °F 48 % ESE 5 mph 0 mph 29.84 in 0.0 in Fair',\n",
       " '12:50 PM 61 °F 39 °F 45 % VAR 3 mph 0 mph 29.84 in 0.0 in Fair',\n",
       " '1:20 PM 63 °F 39 °F 42 % ENE 7 mph 0 mph 29.84 in 0.0 in Fair',\n",
       " '1:50 PM 63 °F 37 °F 39 % NNE 6 mph 0 mph 29.81 in 0.0 in Fair',\n",
       " '2:20 PM 63 °F 39 °F 42 % VAR 5 mph 0 mph 29.81 in 0.0 in Fair',\n",
       " '2:50 PM 64 °F 39 °F 40 % VAR 6 mph 0 mph 29.81 in 0.0 in Fair',\n",
       " '3:20 PM 64 °F 41 °F 42 % N 3 mph 0 mph 29.81 in 0.0 in Fair',\n",
       " '3:50 PM 64 °F 39 °F 40 % VAR 2 mph 0 mph 29.81 in 0.0 in Fair',\n",
       " '4:20 PM 64 °F 41 °F 42 % VAR 2 mph 0 mph 29.81 in 0.0 in Fair',\n",
       " '4:50 PM 64 °F 41 °F 42 % N 5 mph 0 mph 29.81 in 0.0 in Fair',\n",
       " '5:20 PM 64 °F 39 °F 40 % N 3 mph 0 mph 29.81 in 0.0 in Fair',\n",
       " '5:50 PM 63 °F 39 °F 42 % NE 6 mph 0 mph 29.81 in 0.0 in Fair',\n",
       " '6:20 PM 61 °F 39 °F 45 % N 5 mph 0 mph 29.81 in 0.0 in Fair',\n",
       " '6:50 PM 61 °F 41 °F 48 % NW 8 mph 0 mph 29.81 in 0.0 in Fair',\n",
       " '7:20 PM 59 °F 41 °F 51 % NW 8 mph 0 mph 29.81 in 0.0 in Fair',\n",
       " '7:50 PM 59 °F 43 °F 55 % NW 9 mph 0 mph 29.81 in 0.0 in Fair',\n",
       " '8:20 PM 59 °F 43 °F 55 % NNW 9 mph 0 mph 29.81 in 0.0 in Fair',\n",
       " '8:50 PM 57 °F 43 °F 59 % N 9 mph 0 mph 29.84 in 0.0 in Fair',\n",
       " '9:20 PM 57 °F 41 °F 55 % N 9 mph 0 mph 29.84 in 0.0 in Fair',\n",
       " '9:50 PM 55 °F 41 °F 58 % N 6 mph 0 mph 29.84 in 0.0 in Fair',\n",
       " '10:20 PM 54 °F 41 °F 62 % N 8 mph 0 mph 29.84 in 0.0 in Fair',\n",
       " '10:50 PM 55 °F 41 °F 58 % N 8 mph 0 mph 29.84 in 0.0 in Fair',\n",
       " '11:20 PM 54 °F 39 °F 58 % NNE 6 mph 0 mph 29.84 in 0.0 in Fair',\n",
       " '11:50 PM 52 °F 41 °F 67 % NNW 6 mph 0 mph 29.84 in 0.0 in Fair',\n",
       " '',\n",
       " '',\n",
       " '',\n",
       " '',\n",
       " '',\n",
       " '',\n",
       " '',\n",
       " '',\n",
       " '',\n",
       " '',\n",
       " 'Temperature (° F) Actual Historic Avg. Record',\n",
       " 'High Temp 64 50.3 --',\n",
       " 'Low Temp 41 35.9 --',\n",
       " 'Day Average Temp 53.35 43 -',\n",
       " 'Precipitation (Inches) Actual Historic Avg. Record',\n",
       " 'Precipitation (past 24 hours from 23:20:00) 0.00 0.10 -',\n",
       " 'Dew Point (° F) Actual Historic Avg. Record',\n",
       " 'Dew Point 39.38 - -',\n",
       " 'High 43 - -',\n",
       " 'Low 37 - -',\n",
       " 'Average 39.38 - -',\n",
       " 'Wind (MPH) Actual Historic Avg. Record',\n",
       " 'Max Wind Speed 10 - -',\n",
       " 'Visibility 6 - -',\n",
       " 'Sea Level Pressure (Hg) Actual Historic Avg. Record',\n",
       " 'Sea Level Pressure 29.87 - -',\n",
       " 'Astronomy Day Length Rise Set',\n",
       " 'Actual Time 12h 0m 6:35 AM 6:35 PM',\n",
       " 'Civil Twilight 6:02 AM 7:07 PM',\n",
       " 'Nautical Twilight 5:25 AM 7:45 PM',\n",
       " 'Astronomical Twilight 4:45 AM 8:24 PM',\n",
       " 'Moon: waning crescent 5:18 AM 4:19 PM',\n",
       " 'Time\\nTemperature\\nDew Point\\nHumidity\\nWind\\nWind Speed\\nWind Gust\\nPressure\\nPrecip.\\nCondition',\n",
       " '12:20 AM 50 °F 39 °F 66 % NNE 9 mph 0 mph 29.81 in 0.0 in Fair',\n",
       " '12:50 AM 48 °F 37 °F 66 % NNE 10 mph 0 mph 29.81 in 0.0 in Fair',\n",
       " '1:20 AM 48 °F 39 °F 71 % NNE 6 mph 0 mph 29.81 in 0.0 in Fair',\n",
       " '1:50 AM 48 °F 39 °F 71 % E 5 mph 0 mph 29.81 in 0.0 in Fair',\n",
       " '2:20 AM 46 °F 39 °F 76 % E 6 mph 0 mph 29.81 in 0.0 in Fair',\n",
       " '2:50 AM 45 °F 39 °F 81 % E 7 mph 0 mph 29.81 in 0.0 in Fair',\n",
       " '3:20 AM 43 °F 39 °F 87 % ENE 6 mph 0 mph 29.81 in 0.0 in Fair',\n",
       " '3:50 AM 43 °F 37 °F 81 % ENE 6 mph 0 mph 29.81 in 0.0 in Fair',\n",
       " '4:20 AM 43 °F 39 °F 87 % ENE 6 mph 0 mph 29.81 in 0.0 in Fair',\n",
       " '4:50 AM 43 °F 37 °F 81 % E 6 mph 0 mph 29.81 in 0.0 in Fair',\n",
       " '5:20 AM 43 °F 39 °F 87 % E 6 mph 0 mph 29.84 in 0.0 in Fair',\n",
       " '5:50 AM 43 °F 37 °F 81 % E 7 mph 0 mph 29.84 in 0.0 in Fair',\n",
       " '6:20 AM 43 °F 39 °F 87 % ENE 5 mph 0 mph 29.84 in 0.0 in Fair',\n",
       " '6:50 AM 43 °F 37 °F 81 % VAR 2 mph 0 mph 29.84 in 0.0 in Fair',\n",
       " '7:20 AM 41 °F 37 °F 87 % NNE 3 mph 0 mph 29.84 in 0.0 in Shallow Fog',\n",
       " '7:50 AM 43 °F 39 °F 87 % VAR 2 mph 0 mph 29.84 in 0.0 in Shallow Fog',\n",
       " '8:20 AM 43 °F 39 °F 87 % E 3 mph 0 mph 29.87 in 0.0 in Shallow Fog',\n",
       " '8:50 AM 46 °F 39 °F 76 % VAR 2 mph 0 mph 29.87 in 0.0 in Fair',\n",
       " '9:20 AM 50 °F 41 °F 71 % NE 3 mph 0 mph 29.87 in 0.0 in Fair',\n",
       " '9:50 AM 52 °F 39 °F 62 % ENE 7 mph 0 mph 29.87 in 0.0 in Fair',\n",
       " '10:20 AM 52 °F 39 °F 62 % E 7 mph 0 mph 29.87 in 0.0 in Fair',\n",
       " '10:50 AM 54 °F 39 °F 58 % E 6 mph 0 mph 29.87 in 0.0 in Fair',\n",
       " '11:20 AM 55 °F 39 °F 54 % SE 6 mph 0 mph 29.87 in 0.0 in Fair',\n",
       " '11:50 AM 57 °F 37 °F 48 % E 6 mph 0 mph 29.84 in 0.0 in Fair',\n",
       " '12:20 PM 59 °F 39 °F 48 % ESE 5 mph 0 mph 29.84 in 0.0 in Fair',\n",
       " '12:50 PM 61 °F 39 °F 45 % VAR 3 mph 0 mph 29.84 in 0.0 in Fair',\n",
       " '1:20 PM 63 °F 39 °F 42 % ENE 7 mph 0 mph 29.84 in 0.0 in Fair',\n",
       " '1:50 PM 63 °F 37 °F 39 % NNE 6 mph 0 mph 29.81 in 0.0 in Fair',\n",
       " '2:20 PM 63 °F 39 °F 42 % VAR 5 mph 0 mph 29.81 in 0.0 in Fair',\n",
       " '2:50 PM 64 °F 39 °F 40 % VAR 6 mph 0 mph 29.81 in 0.0 in Fair',\n",
       " '3:20 PM 64 °F 41 °F 42 % N 3 mph 0 mph 29.81 in 0.0 in Fair',\n",
       " '3:50 PM 64 °F 39 °F 40 % VAR 2 mph 0 mph 29.81 in 0.0 in Fair',\n",
       " '4:20 PM 64 °F 41 °F 42 % VAR 2 mph 0 mph 29.81 in 0.0 in Fair',\n",
       " '4:50 PM 64 °F 41 °F 42 % N 5 mph 0 mph 29.81 in 0.0 in Fair',\n",
       " '5:20 PM 64 °F 39 °F 40 % N 3 mph 0 mph 29.81 in 0.0 in Fair',\n",
       " '5:50 PM 63 °F 39 °F 42 % NE 6 mph 0 mph 29.81 in 0.0 in Fair',\n",
       " '6:20 PM 61 °F 39 °F 45 % N 5 mph 0 mph 29.81 in 0.0 in Fair',\n",
       " '6:50 PM 61 °F 41 °F 48 % NW 8 mph 0 mph 29.81 in 0.0 in Fair',\n",
       " '7:20 PM 59 °F 41 °F 51 % NW 8 mph 0 mph 29.81 in 0.0 in Fair',\n",
       " '7:50 PM 59 °F 43 °F 55 % NW 9 mph 0 mph 29.81 in 0.0 in Fair',\n",
       " '8:20 PM 59 °F 43 °F 55 % NNW 9 mph 0 mph 29.81 in 0.0 in Fair',\n",
       " '8:50 PM 57 °F 43 °F 59 % N 9 mph 0 mph 29.84 in 0.0 in Fair',\n",
       " '9:20 PM 57 °F 41 °F 55 % N 9 mph 0 mph 29.84 in 0.0 in Fair',\n",
       " '9:50 PM 55 °F 41 °F 58 % N 6 mph 0 mph 29.84 in 0.0 in Fair',\n",
       " '10:20 PM 54 °F 41 °F 62 % N 8 mph 0 mph 29.84 in 0.0 in Fair',\n",
       " '10:50 PM 55 °F 41 °F 58 % N 8 mph 0 mph 29.84 in 0.0 in Fair',\n",
       " '11:20 PM 54 °F 39 °F 58 % NNE 6 mph 0 mph 29.84 in 0.0 in Fair',\n",
       " '11:50 PM 52 °F 41 °F 67 % NNW 6 mph 0 mph 29.84 in 0.0 in Fair',\n",
       " '',\n",
       " '',\n",
       " '',\n",
       " '',\n",
       " '',\n",
       " '',\n",
       " '',\n",
       " '',\n",
       " '',\n",
       " '',\n",
       " 'Temperature (° F) Actual Historic Avg. Record',\n",
       " 'High Temp 64 50.3 --',\n",
       " 'Low Temp 41 35.9 --',\n",
       " 'Day Average Temp 53.35 43 -',\n",
       " 'Precipitation (Inches) Actual Historic Avg. Record',\n",
       " 'Precipitation (past 24 hours from 23:20:00) 0.00 0.10 -',\n",
       " 'Dew Point (° F) Actual Historic Avg. Record',\n",
       " 'Dew Point 39.38 - -',\n",
       " 'High 43 - -',\n",
       " 'Low 37 - -',\n",
       " 'Average 39.38 - -',\n",
       " 'Wind (MPH) Actual Historic Avg. Record',\n",
       " 'Max Wind Speed 10 - -',\n",
       " 'Visibility 6 - -',\n",
       " 'Sea Level Pressure (Hg) Actual Historic Avg. Record',\n",
       " 'Sea Level Pressure 29.87 - -',\n",
       " 'Astronomy Day Length Rise Set',\n",
       " 'Actual Time 12h 0m 6:35 AM 6:35 PM',\n",
       " 'Civil Twilight 6:02 AM 7:07 PM',\n",
       " 'Nautical Twilight 5:25 AM 7:45 PM',\n",
       " 'Astronomical Twilight 4:45 AM 8:24 PM',\n",
       " 'Moon: waning crescent 5:18 AM 4:19 PM',\n",
       " 'Time\\nTemperature\\nDew Point\\nHumidity\\nWind\\nWind Speed\\nWind Gust\\nPressure\\nPrecip.\\nCondition',\n",
       " '12:20 AM 50 °F 39 °F 66 % NNE 9 mph 0 mph 29.81 in 0.0 in Fair',\n",
       " '12:50 AM 48 °F 37 °F 66 % NNE 10 mph 0 mph 29.81 in 0.0 in Fair',\n",
       " '1:20 AM 48 °F 39 °F 71 % NNE 6 mph 0 mph 29.81 in 0.0 in Fair',\n",
       " '1:50 AM 48 °F 39 °F 71 % E 5 mph 0 mph 29.81 in 0.0 in Fair',\n",
       " '2:20 AM 46 °F 39 °F 76 % E 6 mph 0 mph 29.81 in 0.0 in Fair',\n",
       " '2:50 AM 45 °F 39 °F 81 % E 7 mph 0 mph 29.81 in 0.0 in Fair',\n",
       " '3:20 AM 43 °F 39 °F 87 % ENE 6 mph 0 mph 29.81 in 0.0 in Fair',\n",
       " '3:50 AM 43 °F 37 °F 81 % ENE 6 mph 0 mph 29.81 in 0.0 in Fair',\n",
       " '4:20 AM 43 °F 39 °F 87 % ENE 6 mph 0 mph 29.81 in 0.0 in Fair',\n",
       " '4:50 AM 43 °F 37 °F 81 % E 6 mph 0 mph 29.81 in 0.0 in Fair',\n",
       " '5:20 AM 43 °F 39 °F 87 % E 6 mph 0 mph 29.84 in 0.0 in Fair',\n",
       " '5:50 AM 43 °F 37 °F 81 % E 7 mph 0 mph 29.84 in 0.0 in Fair',\n",
       " '6:20 AM 43 °F 39 °F 87 % ENE 5 mph 0 mph 29.84 in 0.0 in Fair',\n",
       " '6:50 AM 43 °F 37 °F 81 % VAR 2 mph 0 mph 29.84 in 0.0 in Fair',\n",
       " '7:20 AM 41 °F 37 °F 87 % NNE 3 mph 0 mph 29.84 in 0.0 in Shallow Fog',\n",
       " '7:50 AM 43 °F 39 °F 87 % VAR 2 mph 0 mph 29.84 in 0.0 in Shallow Fog',\n",
       " '8:20 AM 43 °F 39 °F 87 % E 3 mph 0 mph 29.87 in 0.0 in Shallow Fog',\n",
       " '8:50 AM 46 °F 39 °F 76 % VAR 2 mph 0 mph 29.87 in 0.0 in Fair',\n",
       " '9:20 AM 50 °F 41 °F 71 % NE 3 mph 0 mph 29.87 in 0.0 in Fair',\n",
       " '9:50 AM 52 °F 39 °F 62 % ENE 7 mph 0 mph 29.87 in 0.0 in Fair',\n",
       " '10:20 AM 52 °F 39 °F 62 % E 7 mph 0 mph 29.87 in 0.0 in Fair',\n",
       " '10:50 AM 54 °F 39 °F 58 % E 6 mph 0 mph 29.87 in 0.0 in Fair',\n",
       " '11:20 AM 55 °F 39 °F 54 % SE 6 mph 0 mph 29.87 in 0.0 in Fair',\n",
       " '11:50 AM 57 °F 37 °F 48 % E 6 mph 0 mph 29.84 in 0.0 in Fair',\n",
       " '12:20 PM 59 °F 39 °F 48 % ESE 5 mph 0 mph 29.84 in 0.0 in Fair',\n",
       " '12:50 PM 61 °F 39 °F 45 % VAR 3 mph 0 mph 29.84 in 0.0 in Fair',\n",
       " '1:20 PM 63 °F 39 °F 42 % ENE 7 mph 0 mph 29.84 in 0.0 in Fair',\n",
       " '1:50 PM 63 °F 37 °F 39 % NNE 6 mph 0 mph 29.81 in 0.0 in Fair',\n",
       " '2:20 PM 63 °F 39 °F 42 % VAR 5 mph 0 mph 29.81 in 0.0 in Fair',\n",
       " '2:50 PM 64 °F 39 °F 40 % VAR 6 mph 0 mph 29.81 in 0.0 in Fair',\n",
       " '3:20 PM 64 °F 41 °F 42 % N 3 mph 0 mph 29.81 in 0.0 in Fair',\n",
       " '3:50 PM 64 °F 39 °F 40 % VAR 2 mph 0 mph 29.81 in 0.0 in Fair',\n",
       " '4:20 PM 64 °F 41 °F 42 % VAR 2 mph 0 mph 29.81 in 0.0 in Fair',\n",
       " '4:50 PM 64 °F 41 °F 42 % N 5 mph 0 mph 29.81 in 0.0 in Fair',\n",
       " '5:20 PM 64 °F 39 °F 40 % N 3 mph 0 mph 29.81 in 0.0 in Fair',\n",
       " '5:50 PM 63 °F 39 °F 42 % NE 6 mph 0 mph 29.81 in 0.0 in Fair',\n",
       " '6:20 PM 61 °F 39 °F 45 % N 5 mph 0 mph 29.81 in 0.0 in Fair',\n",
       " '6:50 PM 61 °F 41 °F 48 % NW 8 mph 0 mph 29.81 in 0.0 in Fair',\n",
       " '7:20 PM 59 °F 41 °F 51 % NW 8 mph 0 mph 29.81 in 0.0 in Fair',\n",
       " '7:50 PM 59 °F 43 °F 55 % NW 9 mph 0 mph 29.81 in 0.0 in Fair',\n",
       " '8:20 PM 59 °F 43 °F 55 % NNW 9 mph 0 mph 29.81 in 0.0 in Fair',\n",
       " '8:50 PM 57 °F 43 °F 59 % N 9 mph 0 mph 29.84 in 0.0 in Fair',\n",
       " '9:20 PM 57 °F 41 °F 55 % N 9 mph 0 mph 29.84 in 0.0 in Fair',\n",
       " '9:50 PM 55 °F 41 °F 58 % N 6 mph 0 mph 29.84 in 0.0 in Fair',\n",
       " '10:20 PM 54 °F 41 °F 62 % N 8 mph 0 mph 29.84 in 0.0 in Fair',\n",
       " '10:50 PM 55 °F 41 °F 58 % N 8 mph 0 mph 29.84 in 0.0 in Fair',\n",
       " '11:20 PM 54 °F 39 °F 58 % NNE 6 mph 0 mph 29.84 in 0.0 in Fair',\n",
       " '11:50 PM 52 °F 41 °F 67 % NNW 6 mph 0 mph 29.84 in 0.0 in Fair',\n",
       " '',\n",
       " '',\n",
       " '',\n",
       " '',\n",
       " '',\n",
       " '',\n",
       " '',\n",
       " '',\n",
       " '',\n",
       " '',\n",
       " 'Temperature (° F) Actual Historic Avg. Record',\n",
       " 'High Temp 64 50.3 --',\n",
       " 'Low Temp 41 35.9 --',\n",
       " 'Day Average Temp 53.35 43 -',\n",
       " 'Precipitation (Inches) Actual Historic Avg. Record',\n",
       " 'Precipitation (past 24 hours from 23:20:00) 0.00 0.10 -',\n",
       " 'Dew Point (° F) Actual Historic Avg. Record',\n",
       " 'Dew Point 39.38 - -',\n",
       " 'High 43 - -',\n",
       " 'Low 37 - -',\n",
       " 'Average 39.38 - -',\n",
       " 'Wind (MPH) Actual Historic Avg. Record',\n",
       " 'Max Wind Speed 10 - -',\n",
       " 'Visibility 6 - -',\n",
       " 'Sea Level Pressure (Hg) Actual Historic Avg. Record',\n",
       " 'Sea Level Pressure 29.87 - -',\n",
       " 'Astronomy Day Length Rise Set',\n",
       " 'Actual Time 12h 0m 6:35 AM 6:35 PM',\n",
       " 'Civil Twilight 6:02 AM 7:07 PM',\n",
       " 'Nautical Twilight 5:25 AM 7:45 PM',\n",
       " 'Astronomical Twilight 4:45 AM 8:24 PM',\n",
       " 'Moon: waning crescent 5:18 AM 4:19 PM',\n",
       " 'Time\\nTemperature\\nDew Point\\nHumidity\\nWind\\nWind Speed\\nWind Gust\\nPressure\\nPrecip.\\nCondition',\n",
       " '12:20 AM 50 °F 39 °F 66 % NNE 9 mph 0 mph 29.81 in 0.0 in Fair',\n",
       " '12:50 AM 48 °F 37 °F 66 % NNE 10 mph 0 mph 29.81 in 0.0 in Fair',\n",
       " '1:20 AM 48 °F 39 °F 71 % NNE 6 mph 0 mph 29.81 in 0.0 in Fair',\n",
       " '1:50 AM 48 °F 39 °F 71 % E 5 mph 0 mph 29.81 in 0.0 in Fair',\n",
       " '2:20 AM 46 °F 39 °F 76 % E 6 mph 0 mph 29.81 in 0.0 in Fair',\n",
       " '2:50 AM 45 °F 39 °F 81 % E 7 mph 0 mph 29.81 in 0.0 in Fair',\n",
       " '3:20 AM 43 °F 39 °F 87 % ENE 6 mph 0 mph 29.81 in 0.0 in Fair',\n",
       " '3:50 AM 43 °F 37 °F 81 % ENE 6 mph 0 mph 29.81 in 0.0 in Fair',\n",
       " '4:20 AM 43 °F 39 °F 87 % ENE 6 mph 0 mph 29.81 in 0.0 in Fair',\n",
       " '4:50 AM 43 °F 37 °F 81 % E 6 mph 0 mph 29.81 in 0.0 in Fair',\n",
       " '5:20 AM 43 °F 39 °F 87 % E 6 mph 0 mph 29.84 in 0.0 in Fair',\n",
       " '5:50 AM 43 °F 37 °F 81 % E 7 mph 0 mph 29.84 in 0.0 in Fair',\n",
       " '6:20 AM 43 °F 39 °F 87 % ENE 5 mph 0 mph 29.84 in 0.0 in Fair',\n",
       " '6:50 AM 43 °F 37 °F 81 % VAR 2 mph 0 mph 29.84 in 0.0 in Fair',\n",
       " '7:20 AM 41 °F 37 °F 87 % NNE 3 mph 0 mph 29.84 in 0.0 in Shallow Fog',\n",
       " '7:50 AM 43 °F 39 °F 87 % VAR 2 mph 0 mph 29.84 in 0.0 in Shallow Fog',\n",
       " '8:20 AM 43 °F 39 °F 87 % E 3 mph 0 mph 29.87 in 0.0 in Shallow Fog',\n",
       " '8:50 AM 46 °F 39 °F 76 % VAR 2 mph 0 mph 29.87 in 0.0 in Fair',\n",
       " '9:20 AM 50 °F 41 °F 71 % NE 3 mph 0 mph 29.87 in 0.0 in Fair',\n",
       " '9:50 AM 52 °F 39 °F 62 % ENE 7 mph 0 mph 29.87 in 0.0 in Fair',\n",
       " '10:20 AM 52 °F 39 °F 62 % E 7 mph 0 mph 29.87 in 0.0 in Fair',\n",
       " '10:50 AM 54 °F 39 °F 58 % E 6 mph 0 mph 29.87 in 0.0 in Fair',\n",
       " '11:20 AM 55 °F 39 °F 54 % SE 6 mph 0 mph 29.87 in 0.0 in Fair',\n",
       " '11:50 AM 57 °F 37 °F 48 % E 6 mph 0 mph 29.84 in 0.0 in Fair',\n",
       " '12:20 PM 59 °F 39 °F 48 % ESE 5 mph 0 mph 29.84 in 0.0 in Fair',\n",
       " '12:50 PM 61 °F 39 °F 45 % VAR 3 mph 0 mph 29.84 in 0.0 in Fair',\n",
       " '1:20 PM 63 °F 39 °F 42 % ENE 7 mph 0 mph 29.84 in 0.0 in Fair',\n",
       " '1:50 PM 63 °F 37 °F 39 % NNE 6 mph 0 mph 29.81 in 0.0 in Fair',\n",
       " '2:20 PM 63 °F 39 °F 42 % VAR 5 mph 0 mph 29.81 in 0.0 in Fair',\n",
       " '2:50 PM 64 °F 39 °F 40 % VAR 6 mph 0 mph 29.81 in 0.0 in Fair',\n",
       " '3:20 PM 64 °F 41 °F 42 % N 3 mph 0 mph 29.81 in 0.0 in Fair',\n",
       " '3:50 PM 64 °F 39 °F 40 % VAR 2 mph 0 mph 29.81 in 0.0 in Fair',\n",
       " '4:20 PM 64 °F 41 °F 42 % VAR 2 mph 0 mph 29.81 in 0.0 in Fair',\n",
       " '4:50 PM 64 °F 41 °F 42 % N 5 mph 0 mph 29.81 in 0.0 in Fair',\n",
       " '5:20 PM 64 °F 39 °F 40 % N 3 mph 0 mph 29.81 in 0.0 in Fair',\n",
       " '5:50 PM 63 °F 39 °F 42 % NE 6 mph 0 mph 29.81 in 0.0 in Fair',\n",
       " '6:20 PM 61 °F 39 °F 45 % N 5 mph 0 mph 29.81 in 0.0 in Fair',\n",
       " '6:50 PM 61 °F 41 °F 48 % NW 8 mph 0 mph 29.81 in 0.0 in Fair',\n",
       " '7:20 PM 59 °F 41 °F 51 % NW 8 mph 0 mph 29.81 in 0.0 in Fair',\n",
       " '7:50 PM 59 °F 43 °F 55 % NW 9 mph 0 mph 29.81 in 0.0 in Fair',\n",
       " '8:20 PM 59 °F 43 °F 55 % NNW 9 mph 0 mph 29.81 in 0.0 in Fair',\n",
       " '8:50 PM 57 °F 43 °F 59 % N 9 mph 0 mph 29.84 in 0.0 in Fair',\n",
       " '9:20 PM 57 °F 41 °F 55 % N 9 mph 0 mph 29.84 in 0.0 in Fair',\n",
       " '9:50 PM 55 °F 41 °F 58 % N 6 mph 0 mph 29.84 in 0.0 in Fair',\n",
       " '10:20 PM 54 °F 41 °F 62 % N 8 mph 0 mph 29.84 in 0.0 in Fair',\n",
       " '10:50 PM 55 °F 41 °F 58 % N 8 mph 0 mph 29.84 in 0.0 in Fair',\n",
       " '11:20 PM 54 °F 39 °F 58 % NNE 6 mph 0 mph 29.84 in 0.0 in Fair',\n",
       " '11:50 PM 52 °F 41 °F 67 % NNW 6 mph 0 mph 29.84 in 0.0 in Fair',\n",
       " '',\n",
       " '',\n",
       " '',\n",
       " '',\n",
       " '',\n",
       " '',\n",
       " '',\n",
       " '',\n",
       " '',\n",
       " '',\n",
       " 'Temperature (° F) Actual Historic Avg. Record',\n",
       " 'High Temp 64 50.3 --',\n",
       " 'Low Temp 41 35.9 --',\n",
       " 'Day Average Temp 53.35 43 -',\n",
       " 'Precipitation (Inches) Actual Historic Avg. Record',\n",
       " 'Precipitation (past 24 hours from 23:20:00) 0.00 0.10 -',\n",
       " 'Dew Point (° F) Actual Historic Avg. Record',\n",
       " 'Dew Point 39.38 - -',\n",
       " 'High 43 - -',\n",
       " 'Low 37 - -',\n",
       " 'Average 39.38 - -',\n",
       " 'Wind (MPH) Actual Historic Avg. Record',\n",
       " 'Max Wind Speed 10 - -',\n",
       " 'Visibility 6 - -',\n",
       " 'Sea Level Pressure (Hg) Actual Historic Avg. Record',\n",
       " 'Sea Level Pressure 29.87 - -',\n",
       " 'Astronomy Day Length Rise Set',\n",
       " 'Actual Time 12h 0m 6:35 AM 6:35 PM',\n",
       " 'Civil Twilight 6:02 AM 7:07 PM',\n",
       " 'Nautical Twilight 5:25 AM 7:45 PM',\n",
       " 'Astronomical Twilight 4:45 AM 8:24 PM',\n",
       " 'Moon: waning crescent 5:18 AM 4:19 PM',\n",
       " 'Time\\nTemperature\\nDew Point\\nHumidity\\nWind\\nWind Speed\\nWind Gust\\nPressure\\nPrecip.\\nCondition',\n",
       " '12:20 AM 50 °F 39 °F 66 % NNE 9 mph 0 mph 29.81 in 0.0 in Fair',\n",
       " '12:50 AM 48 °F 37 °F 66 % NNE 10 mph 0 mph 29.81 in 0.0 in Fair',\n",
       " '1:20 AM 48 °F 39 °F 71 % NNE 6 mph 0 mph 29.81 in 0.0 in Fair',\n",
       " '1:50 AM 48 °F 39 °F 71 % E 5 mph 0 mph 29.81 in 0.0 in Fair',\n",
       " '2:20 AM 46 °F 39 °F 76 % E 6 mph 0 mph 29.81 in 0.0 in Fair',\n",
       " '2:50 AM 45 °F 39 °F 81 % E 7 mph 0 mph 29.81 in 0.0 in Fair',\n",
       " '3:20 AM 43 °F 39 °F 87 % ENE 6 mph 0 mph 29.81 in 0.0 in Fair',\n",
       " '3:50 AM 43 °F 37 °F 81 % ENE 6 mph 0 mph 29.81 in 0.0 in Fair',\n",
       " '4:20 AM 43 °F 39 °F 87 % ENE 6 mph 0 mph 29.81 in 0.0 in Fair',\n",
       " '4:50 AM 43 °F 37 °F 81 % E 6 mph 0 mph 29.81 in 0.0 in Fair',\n",
       " '5:20 AM 43 °F 39 °F 87 % E 6 mph 0 mph 29.84 in 0.0 in Fair',\n",
       " '5:50 AM 43 °F 37 °F 81 % E 7 mph 0 mph 29.84 in 0.0 in Fair',\n",
       " '6:20 AM 43 °F 39 °F 87 % ENE 5 mph 0 mph 29.84 in 0.0 in Fair',\n",
       " '6:50 AM 43 °F 37 °F 81 % VAR 2 mph 0 mph 29.84 in 0.0 in Fair',\n",
       " '7:20 AM 41 °F 37 °F 87 % NNE 3 mph 0 mph 29.84 in 0.0 in Shallow Fog',\n",
       " '7:50 AM 43 °F 39 °F 87 % VAR 2 mph 0 mph 29.84 in 0.0 in Shallow Fog',\n",
       " '8:20 AM 43 °F 39 °F 87 % E 3 mph 0 mph 29.87 in 0.0 in Shallow Fog',\n",
       " '8:50 AM 46 °F 39 °F 76 % VAR 2 mph 0 mph 29.87 in 0.0 in Fair',\n",
       " '9:20 AM 50 °F 41 °F 71 % NE 3 mph 0 mph 29.87 in 0.0 in Fair',\n",
       " '9:50 AM 52 °F 39 °F 62 % ENE 7 mph 0 mph 29.87 in 0.0 in Fair',\n",
       " '10:20 AM 52 °F 39 °F 62 % E 7 mph 0 mph 29.87 in 0.0 in Fair',\n",
       " '10:50 AM 54 °F 39 °F 58 % E 6 mph 0 mph 29.87 in 0.0 in Fair',\n",
       " '11:20 AM 55 °F 39 °F 54 % SE 6 mph 0 mph 29.87 in 0.0 in Fair',\n",
       " '11:50 AM 57 °F 37 °F 48 % E 6 mph 0 mph 29.84 in 0.0 in Fair',\n",
       " '12:20 PM 59 °F 39 °F 48 % ESE 5 mph 0 mph 29.84 in 0.0 in Fair',\n",
       " '12:50 PM 61 °F 39 °F 45 % VAR 3 mph 0 mph 29.84 in 0.0 in Fair',\n",
       " '1:20 PM 63 °F 39 °F 42 % ENE 7 mph 0 mph 29.84 in 0.0 in Fair',\n",
       " '1:50 PM 63 °F 37 °F 39 % NNE 6 mph 0 mph 29.81 in 0.0 in Fair',\n",
       " '2:20 PM 63 °F 39 °F 42 % VAR 5 mph 0 mph 29.81 in 0.0 in Fair',\n",
       " '2:50 PM 64 °F 39 °F 40 % VAR 6 mph 0 mph 29.81 in 0.0 in Fair',\n",
       " '3:20 PM 64 °F 41 °F 42 % N 3 mph 0 mph 29.81 in 0.0 in Fair',\n",
       " '3:50 PM 64 °F 39 °F 40 % VAR 2 mph 0 mph 29.81 in 0.0 in Fair',\n",
       " '4:20 PM 64 °F 41 °F 42 % VAR 2 mph 0 mph 29.81 in 0.0 in Fair',\n",
       " '4:50 PM 64 °F 41 °F 42 % N 5 mph 0 mph 29.81 in 0.0 in Fair',\n",
       " '5:20 PM 64 °F 39 °F 40 % N 3 mph 0 mph 29.81 in 0.0 in Fair',\n",
       " '5:50 PM 63 °F 39 °F 42 % NE 6 mph 0 mph 29.81 in 0.0 in Fair',\n",
       " '6:20 PM 61 °F 39 °F 45 % N 5 mph 0 mph 29.81 in 0.0 in Fair',\n",
       " '6:50 PM 61 °F 41 °F 48 % NW 8 mph 0 mph 29.81 in 0.0 in Fair',\n",
       " '7:20 PM 59 °F 41 °F 51 % NW 8 mph 0 mph 29.81 in 0.0 in Fair',\n",
       " '7:50 PM 59 °F 43 °F 55 % NW 9 mph 0 mph 29.81 in 0.0 in Fair',\n",
       " '8:20 PM 59 °F 43 °F 55 % NNW 9 mph 0 mph 29.81 in 0.0 in Fair',\n",
       " '8:50 PM 57 °F 43 °F 59 % N 9 mph 0 mph 29.84 in 0.0 in Fair',\n",
       " '9:20 PM 57 °F 41 °F 55 % N 9 mph 0 mph 29.84 in 0.0 in Fair',\n",
       " '9:50 PM 55 °F 41 °F 58 % N 6 mph 0 mph 29.84 in 0.0 in Fair',\n",
       " '10:20 PM 54 °F 41 °F 62 % N 8 mph 0 mph 29.84 in 0.0 in Fair',\n",
       " '10:50 PM 55 °F 41 °F 58 % N 8 mph 0 mph 29.84 in 0.0 in Fair',\n",
       " '11:20 PM 54 °F 39 °F 58 % NNE 6 mph 0 mph 29.84 in 0.0 in Fair',\n",
       " '11:50 PM 52 °F 41 °F 67 % NNW 6 mph 0 mph 29.84 in 0.0 in Fair',\n",
       " '',\n",
       " '',\n",
       " '',\n",
       " '',\n",
       " '',\n",
       " '',\n",
       " '',\n",
       " '',\n",
       " '',\n",
       " '',\n",
       " 'Temperature (° F) Actual Historic Avg. Record',\n",
       " 'High Temp 64 50.3 --',\n",
       " 'Low Temp 41 35.9 --',\n",
       " 'Day Average Temp 53.35 43 -',\n",
       " 'Precipitation (Inches) Actual Historic Avg. Record',\n",
       " 'Precipitation (past 24 hours from 23:20:00) 0.00 0.10 -',\n",
       " 'Dew Point (° F) Actual Historic Avg. Record',\n",
       " 'Dew Point 39.38 - -',\n",
       " 'High 43 - -',\n",
       " 'Low 37 - -',\n",
       " 'Average 39.38 - -',\n",
       " 'Wind (MPH) Actual Historic Avg. Record',\n",
       " 'Max Wind Speed 10 - -',\n",
       " 'Visibility 6 - -',\n",
       " 'Sea Level Pressure (Hg) Actual Historic Avg. Record',\n",
       " 'Sea Level Pressure 29.87 - -',\n",
       " 'Astronomy Day Length Rise Set',\n",
       " 'Actual Time 12h 0m 6:35 AM 6:35 PM',\n",
       " 'Civil Twilight 6:02 AM 7:07 PM',\n",
       " 'Nautical Twilight 5:25 AM 7:45 PM',\n",
       " 'Astronomical Twilight 4:45 AM 8:24 PM',\n",
       " 'Moon: waning crescent 5:18 AM 4:19 PM',\n",
       " 'Time\\nTemperature\\nDew Point\\nHumidity\\nWind\\nWind Speed\\nWind Gust\\nPressure\\nPrecip.\\nCondition',\n",
       " '12:20 AM 50 °F 39 °F 66 % NNE 9 mph 0 mph 29.81 in 0.0 in Fair',\n",
       " '12:50 AM 48 °F 37 °F 66 % NNE 10 mph 0 mph 29.81 in 0.0 in Fair',\n",
       " '1:20 AM 48 °F 39 °F 71 % NNE 6 mph 0 mph 29.81 in 0.0 in Fair',\n",
       " '1:50 AM 48 °F 39 °F 71 % E 5 mph 0 mph 29.81 in 0.0 in Fair',\n",
       " '2:20 AM 46 °F 39 °F 76 % E 6 mph 0 mph 29.81 in 0.0 in Fair',\n",
       " ...]"
      ]
     },
     "execution_count": 58,
     "metadata": {},
     "output_type": "execute_result"
    }
   ],
   "source": [
    "table_html"
   ]
  },
  {
   "cell_type": "code",
   "execution_count": null,
   "metadata": {},
   "outputs": [],
   "source": []
  }
 ],
 "metadata": {
  "interpreter": {
   "hash": "add08ccb475ee87d0349ea55f57042a6cf20d70eb5df1ad11223a91c07106a2c"
  },
  "kernelspec": {
   "display_name": "Python 3.9.7 ('.venv': venv)",
   "language": "python",
   "name": "python3"
  },
  "language_info": {
   "codemirror_mode": {
    "name": "ipython",
    "version": 3
   },
   "file_extension": ".py",
   "mimetype": "text/x-python",
   "name": "python",
   "nbconvert_exporter": "python",
   "pygments_lexer": "ipython3",
   "version": "3.9.7"
  },
  "orig_nbformat": 4
 },
 "nbformat": 4,
 "nbformat_minor": 2
}
